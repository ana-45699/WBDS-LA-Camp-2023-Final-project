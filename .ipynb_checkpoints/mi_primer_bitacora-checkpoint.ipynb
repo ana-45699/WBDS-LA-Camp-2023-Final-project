{
 "cells": [
  {
   "cell_type": "markdown",
   "id": "60c7c603",
   "metadata": {},
   "source": [
    "# Mi primer bitácora"
   ]
  },
  {
   "cell_type": "markdown",
   "id": "703aaf48",
   "metadata": {},
   "source": [
    "La clase de introducción a Jupyter fue el tres de Junio, Jupyter trabaja en cell, bloques o células"
   ]
  },
  {
   "cell_type": "code",
   "execution_count": 2,
   "id": "4f4aca8b",
   "metadata": {},
   "outputs": [
    {
     "data": {
      "text/plain": [
       "3"
      ]
     },
     "execution_count": 2,
     "metadata": {},
     "output_type": "execute_result"
    }
   ],
   "source": [
    "2+1"
   ]
  },
  {
   "cell_type": "code",
   "execution_count": 1,
   "id": "d79d61fb",
   "metadata": {},
   "outputs": [
    {
     "data": {
      "text/plain": [
       "3"
      ]
     },
     "execution_count": 1,
     "metadata": {},
     "output_type": "execute_result"
    }
   ],
   "source": [
    "1+2"
   ]
  }
 ],
 "metadata": {
  "kernelspec": {
   "display_name": "Python 3 (ipykernel)",
   "language": "python",
   "name": "python3"
  },
  "language_info": {
   "codemirror_mode": {
    "name": "ipython",
    "version": 3
   },
   "file_extension": ".py",
   "mimetype": "text/x-python",
   "name": "python",
   "nbconvert_exporter": "python",
   "pygments_lexer": "ipython3",
   "version": "3.9.7"
  }
 },
 "nbformat": 4,
 "nbformat_minor": 5
}
