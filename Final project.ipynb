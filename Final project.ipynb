{
 "cells": [
  {
   "cell_type": "markdown",
   "id": "1a3baf96",
   "metadata": {},
   "source": [
    "# PROYECTO FINAL WBDS LA Camp : Análisis exploratorio de proteínas relacionadas a melanoma en *Homo Sapiens*\n",
    "\n",
    "## Planteamiento del problema\n",
    "\n",
    "El cáncer es un gran conjunto de enfermedades caracterizado por el desarrollo de células anormales debido a mutaciones.\n",
    "Estas mutaciones se encuentran en proteinas involucradas en mecanismos de regulación y crecimiento. Además debido a la mayor complejidad de los organismos eucariotas,ciertas isoformas podrían generar un mayor desarrollo del cáncer. En este proyecto,se realizará un análisis exploratorio en datos de Uniprot para analizar las proteínas relacionadas a melanoma, un tipo de cáncer que ocurre en los melanocitos, y proteínas del proteoma humano que presenten secuencias similares, teniendo en cuenta los dominios funcionales predichos."
   ]
  },
  {
   "cell_type": "markdown",
   "id": "f90284d0",
   "metadata": {},
   "source": [
    "## Flujo de trabajo"
   ]
  },
  {
   "cell_type": "code",
   "execution_count": 2,
   "id": "38ec3d14",
   "metadata": {},
   "outputs": [
    {
     "name": "stderr",
     "output_type": "stream",
     "text": [
      "D:\\Anaconda_2022\\lib\\site-packages\\scipy\\__init__.py:146: UserWarning: A NumPy version >=1.16.5 and <1.23.0 is required for this version of SciPy (detected version 1.24.2\n",
      "  warnings.warn(f\"A NumPy version >={np_minversion} and <{np_maxversion}\"\n"
     ]
    }
   ],
   "source": [
    "import matplotlib.pyplot as plt\n",
    "import numpy  as np\n",
    "import pandas as pd\n",
    "import requests\n",
    "import seaborn as sns\n",
    "import subprocess\n",
    "import sys\n",
    "from scipy.stats import spearmanr\n",
    "from Bio import SeqIO\n",
    "from Bio import Entrez\n",
    "from io                 import StringIO\n",
    "from matplotlib.patches import Patch\n",
    "from requests.adapters  import HTTPAdapter, Retry"
   ]
  },
  {
   "cell_type": "markdown",
   "id": "fa4974a8",
   "metadata": {},
   "source": [
    "### Descarga de los archivos input"
   ]
  },
  {
   "cell_type": "code",
   "execution_count": 3,
   "id": "8489b47d",
   "metadata": {},
   "outputs": [],
   "source": [
    "from Bio import Entrez\n",
    "Entrez.api_key = 'bf35224d09b604ef7e833c3ac8c378ad3b08'\n",
    "Entrez.email = 'ana.romani1@unmsm.edu.pe'"
   ]
  },
  {
   "cell_type": "code",
   "execution_count": 9,
   "id": "c2583dd5",
   "metadata": {},
   "outputs": [],
   "source": [
    "uniprot_api_url  = \"https://rest.uniprot.org/uniprotkb/stream\"\n",
    "uniprot_api_args = {\"compressed\" : \"false\",\n",
    "                    \"format\"     : \"fasta\",\n",
    "                    \"query\"      : \"(melanoma) AND (reviewed:true) AND (organism_id:9606)\"}\n",
    "uniprot_query_seqs = requests.get(uniprot_api_url,params=uniprot_api_args).text\n",
    "uniprot_query_file = open(\"uniprot_sequences.fasta\", \"wt\")\n",
    "uniprot_query_file.write(uniprot_query_seqs)\n",
    "uniprot_query_file.close()"
   ]
  },
  {
   "cell_type": "markdown",
   "id": "1eb21bbf",
   "metadata": {},
   "source": [
    "Se busco en Uniprot el proteoma humano. Se puede descargar el input ingresando a la página. Por otro lado se puede descargar con el link mediante la consola en Linux o usando los comandos de Linux en este notebook.  "
   ]
  },
  {
   "cell_type": "code",
   "execution_count": 5,
   "id": "c64a4471",
   "metadata": {},
   "outputs": [
    {
     "data": {
      "text/plain": [
       "0"
      ]
     },
     "execution_count": 5,
     "metadata": {},
     "output_type": "execute_result"
    }
   ],
   "source": [
    "link = \"https://ftp.uniprot.org/pub/databases/uniprot/current_release/knowledgebase/reference_proteomes/Eukaryota/UP000005640/UP000005640_9606.fasta.gz\"\n",
    "download_command = 'wsl ' + 'wget ' + link\n",
    "subprocess.call(download_command,shell = True)"
   ]
  },
  {
   "cell_type": "code",
   "execution_count": 6,
   "id": "868c86bd",
   "metadata": {},
   "outputs": [
    {
     "data": {
      "text/plain": [
       "0"
      ]
     },
     "execution_count": 6,
     "metadata": {},
     "output_type": "execute_result"
    }
   ],
   "source": [
    "download_command = 'wsl ' + 'gunzip -c ' + \"UP000005640_9606.fasta.gz > homo_sapiens_database.db.fasta\"\n",
    "subprocess.call(download_command,shell = True)"
   ]
  },
  {
   "cell_type": "markdown",
   "id": "4967e222",
   "metadata": {},
   "source": [
    "Variables que contienen los nombres de los archivos fasta input"
   ]
  },
  {
   "cell_type": "code",
   "execution_count": 4,
   "id": "154c11b3",
   "metadata": {},
   "outputs": [],
   "source": [
    "ref_file = \"D:/Proyectos_academicos/exercises_WBDS_camp_files/homo_sapiens_database.db.fasta\"\n",
    "query_file = \"C:/Users/HP/Desktop/bitacora/Python_W_genomics/uniprot_sequences.fasta\"\n",
    "#record_ref = SeqIO.read(,\"fasta\")"
   ]
  },
  {
   "cell_type": "markdown",
   "id": "b4d63818",
   "metadata": {},
   "source": [
    "### Correr los comandos BLAST"
   ]
  },
  {
   "cell_type": "code",
   "execution_count": 20,
   "id": "b7062026",
   "metadata": {},
   "outputs": [
    {
     "data": {
      "text/plain": [
       "1"
      ]
     },
     "execution_count": 20,
     "metadata": {},
     "output_type": "execute_result"
    }
   ],
   "source": [
    "prefix_database = \"homo_sapiens_database.db\"\n",
    "makeblastdb_path = \"D:/Proyectos_academicos/exercises_WBDS_camp_files/ncbi-blast-2.2.26+/bin/makeblastdb.exe\"\n",
    "makeblastdb_command = 'wsl ' + makeblastdb_path+ ' -in '+ref_file+' -dbtype '+'prot -out '+prefix_database\n",
    "subprocess.call(makeblastdb_command,shell = True)"
   ]
  },
  {
   "cell_type": "code",
   "execution_count": 8,
   "id": "215545f8",
   "metadata": {},
   "outputs": [],
   "source": [
    "blastp_path       = \"homo_sapiens_database.db\"\n",
    "blastp_out_format = \"6 qseqid sseqid qlen slen qstart sstart qend send score evalue length positive\"\n",
    "blastp_out_file   = \"D:/Proyectos_academicos/exercises_WBDS_camp_files/melanoma_match.blast.tsv\""
   ]
  },
  {
   "cell_type": "code",
   "execution_count": 22,
   "id": "13c7654e",
   "metadata": {},
   "outputs": [
    {
     "data": {
      "text/plain": [
       "127"
      ]
     },
     "execution_count": 22,
     "metadata": {},
     "output_type": "execute_result"
    }
   ],
   "source": [
    "blastp_command    = \"wsl \"+ blastp_path + \" -db \" + prefix_database + \" -query \" + \"uniprot_sequences.fasta\"+\" -evalue \" + \" 1e-9 \"+\" -out \"+blastp_out_file+\" -outfmt \"+blastp_out_format+\" -num_threads \"+ \"2\"\n",
    "subprocess.call(blastp_command,shell = True)"
   ]
  },
  {
   "cell_type": "markdown",
   "id": "74c8e64d",
   "metadata": {},
   "source": [
    "### Análisis exploratorio de los resultados de BLAST"
   ]
  },
  {
   "cell_type": "code",
   "execution_count": 9,
   "id": "6cbe525e",
   "metadata": {},
   "outputs": [],
   "source": [
    "blastp_column_names = blastp_out_format.split(\" \")[1:]\n",
    "blastp_df = pd.read_csv(blastp_out_file,sep=\"\\t\",names=blastp_column_names)"
   ]
  },
  {
   "cell_type": "code",
   "execution_count": 10,
   "id": "7431f585",
   "metadata": {},
   "outputs": [
    {
     "data": {
      "text/plain": [
       "(45961, 12)"
      ]
     },
     "execution_count": 10,
     "metadata": {},
     "output_type": "execute_result"
    }
   ],
   "source": [
    "blastp_df.shape"
   ]
  },
  {
   "cell_type": "markdown",
   "id": "1d2091c3",
   "metadata": {},
   "source": [
    "El proteoma presenta las secuencias que se encuentran relacionadas a melanoma, por lo que para la comparación con otras proteínas en el proteoma se eliminara estas secuencias del dataframe"
   ]
  },
  {
   "cell_type": "code",
   "execution_count": 11,
   "id": "53597c47",
   "metadata": {},
   "outputs": [
    {
     "data": {
      "text/plain": [
       "725"
      ]
     },
     "execution_count": 11,
     "metadata": {},
     "output_type": "execute_result"
    }
   ],
   "source": [
    "# Obtain fasta only with the homo sapiens sequence in the Homo sapiens protein\n",
    "candidate_genes = blastp_df[\"qseqid\"].unique().tolist()\n",
    "len(candidate_genes)"
   ]
  },
  {
   "cell_type": "code",
   "execution_count": 12,
   "id": "323590d7",
   "metadata": {},
   "outputs": [],
   "source": [
    "filter_blastp_df = blastp_df[blastp_df[\"qseqid\"]!=blastp_df[\"sseqid\"]]"
   ]
  },
  {
   "cell_type": "code",
   "execution_count": 13,
   "id": "6b8e9f92",
   "metadata": {},
   "outputs": [
    {
     "data": {
      "text/html": [
       "<div>\n",
       "<style scoped>\n",
       "    .dataframe tbody tr th:only-of-type {\n",
       "        vertical-align: middle;\n",
       "    }\n",
       "\n",
       "    .dataframe tbody tr th {\n",
       "        vertical-align: top;\n",
       "    }\n",
       "\n",
       "    .dataframe thead th {\n",
       "        text-align: right;\n",
       "    }\n",
       "</style>\n",
       "<table border=\"1\" class=\"dataframe\">\n",
       "  <thead>\n",
       "    <tr style=\"text-align: right;\">\n",
       "      <th></th>\n",
       "      <th>qseqid</th>\n",
       "      <th>sseqid</th>\n",
       "      <th>qlen</th>\n",
       "      <th>slen</th>\n",
       "      <th>qstart</th>\n",
       "      <th>sstart</th>\n",
       "      <th>qend</th>\n",
       "      <th>send</th>\n",
       "      <th>score</th>\n",
       "      <th>evalue</th>\n",
       "      <th>length</th>\n",
       "      <th>positive</th>\n",
       "    </tr>\n",
       "  </thead>\n",
       "  <tbody>\n",
       "    <tr>\n",
       "      <th>1</th>\n",
       "      <td>sp|A0A5B9|TRBC2_HUMAN</td>\n",
       "      <td>sp|P0DTU4|TRBR2_HUMAN</td>\n",
       "      <td>178</td>\n",
       "      <td>315</td>\n",
       "      <td>1</td>\n",
       "      <td>138</td>\n",
       "      <td>178</td>\n",
       "      <td>315</td>\n",
       "      <td>958</td>\n",
       "      <td>5.000000e-131</td>\n",
       "      <td>178</td>\n",
       "      <td>178</td>\n",
       "    </tr>\n",
       "    <tr>\n",
       "      <th>2</th>\n",
       "      <td>sp|A0A5B9|TRBC2_HUMAN</td>\n",
       "      <td>sp|P01850|TRBC1_HUMAN</td>\n",
       "      <td>178</td>\n",
       "      <td>176</td>\n",
       "      <td>1</td>\n",
       "      <td>1</td>\n",
       "      <td>175</td>\n",
       "      <td>175</td>\n",
       "      <td>915</td>\n",
       "      <td>2.000000e-126</td>\n",
       "      <td>175</td>\n",
       "      <td>172</td>\n",
       "    </tr>\n",
       "    <tr>\n",
       "      <th>3</th>\n",
       "      <td>sp|A0A5B9|TRBC2_HUMAN</td>\n",
       "      <td>sp|P0CF74|IGLC6_HUMAN</td>\n",
       "      <td>178</td>\n",
       "      <td>106</td>\n",
       "      <td>8</td>\n",
       "      <td>7</td>\n",
       "      <td>101</td>\n",
       "      <td>93</td>\n",
       "      <td>142</td>\n",
       "      <td>8.000000e-12</td>\n",
       "      <td>94</td>\n",
       "      <td>55</td>\n",
       "    </tr>\n",
       "    <tr>\n",
       "      <th>4</th>\n",
       "      <td>sp|A0A5B9|TRBC2_HUMAN</td>\n",
       "      <td>sp|P01871|IGHM_HUMAN</td>\n",
       "      <td>178</td>\n",
       "      <td>453</td>\n",
       "      <td>6</td>\n",
       "      <td>109</td>\n",
       "      <td>103</td>\n",
       "      <td>205</td>\n",
       "      <td>150</td>\n",
       "      <td>1.000000e-11</td>\n",
       "      <td>99</td>\n",
       "      <td>56</td>\n",
       "    </tr>\n",
       "    <tr>\n",
       "      <th>5</th>\n",
       "      <td>sp|A0A5B9|TRBC2_HUMAN</td>\n",
       "      <td>sp|P0CG04|IGLC1_HUMAN</td>\n",
       "      <td>178</td>\n",
       "      <td>106</td>\n",
       "      <td>8</td>\n",
       "      <td>7</td>\n",
       "      <td>101</td>\n",
       "      <td>93</td>\n",
       "      <td>140</td>\n",
       "      <td>2.000000e-11</td>\n",
       "      <td>94</td>\n",
       "      <td>54</td>\n",
       "    </tr>\n",
       "  </tbody>\n",
       "</table>\n",
       "</div>"
      ],
      "text/plain": [
       "                  qseqid                 sseqid  qlen  slen  qstart  sstart  \\\n",
       "1  sp|A0A5B9|TRBC2_HUMAN  sp|P0DTU4|TRBR2_HUMAN   178   315       1     138   \n",
       "2  sp|A0A5B9|TRBC2_HUMAN  sp|P01850|TRBC1_HUMAN   178   176       1       1   \n",
       "3  sp|A0A5B9|TRBC2_HUMAN  sp|P0CF74|IGLC6_HUMAN   178   106       8       7   \n",
       "4  sp|A0A5B9|TRBC2_HUMAN   sp|P01871|IGHM_HUMAN   178   453       6     109   \n",
       "5  sp|A0A5B9|TRBC2_HUMAN  sp|P0CG04|IGLC1_HUMAN   178   106       8       7   \n",
       "\n",
       "   qend  send  score         evalue  length  positive  \n",
       "1   178   315    958  5.000000e-131     178       178  \n",
       "2   175   175    915  2.000000e-126     175       172  \n",
       "3   101    93    142   8.000000e-12      94        55  \n",
       "4   103   205    150   1.000000e-11      99        56  \n",
       "5   101    93    140   2.000000e-11      94        54  "
      ]
     },
     "execution_count": 13,
     "metadata": {},
     "output_type": "execute_result"
    }
   ],
   "source": [
    "filter_blastp_df.head()"
   ]
  },
  {
   "cell_type": "markdown",
   "id": "eea774d5",
   "metadata": {},
   "source": [
    "Se puede observar que hay proteínas que presentan el mismo nombre, sin embargo tienen códigos distintos y características distintas por lo que serán conservadas"
   ]
  },
  {
   "cell_type": "code",
   "execution_count": 14,
   "id": "3efa9750",
   "metadata": {},
   "outputs": [
    {
     "data": {
      "text/plain": [
       "596"
      ]
     },
     "execution_count": 14,
     "metadata": {},
     "output_type": "execute_result"
    }
   ],
   "source": [
    "candidate_genes = filter_blastp_df[\"qseqid\"].unique().tolist()\n",
    "len(candidate_genes)"
   ]
  },
  {
   "cell_type": "code",
   "execution_count": 44,
   "id": "8ca62f24",
   "metadata": {},
   "outputs": [
    {
     "data": {
      "text/plain": [
       "sp|Q8WZ42|TITIN_HUMAN    4232\n",
       "sp|Q96RW7|HMCN1_HUMAN    2213\n",
       "sp|Q9NYQ8|FAT2_HUMAN     1743\n",
       "sp|Q96CS4|ZN689_HUMAN    1415\n",
       "sp|Q8N393|ZN786_HUMAN    1392\n",
       "                         ... \n",
       "sp|Q01844|EWS_HUMAN         1\n",
       "sp|Q3KQV9|UAP1L_HUMAN       1\n",
       "sp|Q3B7J2|GFOD2_HUMAN       1\n",
       "sp|Q9HBD1|RC3H2_HUMAN       1\n",
       "sp|Q6WCQ1|MPRIP_HUMAN       1\n",
       "Name: qseqid, Length: 596, dtype: int64"
      ]
     },
     "execution_count": 44,
     "metadata": {},
     "output_type": "execute_result"
    }
   ],
   "source": [
    "filter_blastp_df[\"qseqid\"].value_counts()"
   ]
  },
  {
   "cell_type": "markdown",
   "id": "81e8417f",
   "metadata": {},
   "source": [
    "Se observa que la proteína que presenta un mayor número de alineamiento de manera individual es TITIN_HUMAN"
   ]
  },
  {
   "cell_type": "code",
   "execution_count": 15,
   "id": "b584728f",
   "metadata": {},
   "outputs": [
    {
     "data": {
      "text/html": [
       "<div>\n",
       "<style scoped>\n",
       "    .dataframe tbody tr th:only-of-type {\n",
       "        vertical-align: middle;\n",
       "    }\n",
       "\n",
       "    .dataframe tbody tr th {\n",
       "        vertical-align: top;\n",
       "    }\n",
       "\n",
       "    .dataframe thead th {\n",
       "        text-align: right;\n",
       "    }\n",
       "</style>\n",
       "<table border=\"1\" class=\"dataframe\">\n",
       "  <thead>\n",
       "    <tr style=\"text-align: right;\">\n",
       "      <th></th>\n",
       "      <th>qseqid</th>\n",
       "      <th>sseqid</th>\n",
       "      <th>count</th>\n",
       "    </tr>\n",
       "  </thead>\n",
       "  <tbody>\n",
       "    <tr>\n",
       "      <th>20871</th>\n",
       "      <td>sp|Q8WZ42|TITIN_HUMAN</td>\n",
       "      <td>sp|Q5VST9|OBSCN_HUMAN</td>\n",
       "      <td>151</td>\n",
       "    </tr>\n",
       "    <tr>\n",
       "      <th>20872</th>\n",
       "      <td>sp|Q8WZ42|TITIN_HUMAN</td>\n",
       "      <td>sp|Q8N9C0|IGS22_HUMAN</td>\n",
       "      <td>148</td>\n",
       "    </tr>\n",
       "    <tr>\n",
       "      <th>20873</th>\n",
       "      <td>sp|Q8WZ42|TITIN_HUMAN</td>\n",
       "      <td>sp|Q14896|MYPC3_HUMAN</td>\n",
       "      <td>147</td>\n",
       "    </tr>\n",
       "    <tr>\n",
       "      <th>20874</th>\n",
       "      <td>sp|Q8WZ42|TITIN_HUMAN</td>\n",
       "      <td>sp|Q00872|MYPC1_HUMAN</td>\n",
       "      <td>134</td>\n",
       "    </tr>\n",
       "    <tr>\n",
       "      <th>20875</th>\n",
       "      <td>sp|Q8WZ42|TITIN_HUMAN</td>\n",
       "      <td>sp|P52179|MYOM1_HUMAN</td>\n",
       "      <td>124</td>\n",
       "    </tr>\n",
       "    <tr>\n",
       "      <th>...</th>\n",
       "      <td>...</td>\n",
       "      <td>...</td>\n",
       "      <td>...</td>\n",
       "    </tr>\n",
       "    <tr>\n",
       "      <th>9629</th>\n",
       "      <td>sp|P54760|EPHB4_HUMAN</td>\n",
       "      <td>sp|Q92772|CDKL2_HUMAN</td>\n",
       "      <td>1</td>\n",
       "    </tr>\n",
       "    <tr>\n",
       "      <th>9628</th>\n",
       "      <td>sp|P54760|EPHB4_HUMAN</td>\n",
       "      <td>sp|Q92918|M4K1_HUMAN</td>\n",
       "      <td>1</td>\n",
       "    </tr>\n",
       "    <tr>\n",
       "      <th>9627</th>\n",
       "      <td>sp|P54760|EPHB4_HUMAN</td>\n",
       "      <td>sp|Q96J92|WNK4_HUMAN</td>\n",
       "      <td>1</td>\n",
       "    </tr>\n",
       "    <tr>\n",
       "      <th>9626</th>\n",
       "      <td>sp|P54760|EPHB4_HUMAN</td>\n",
       "      <td>sp|Q96L34|MARK4_HUMAN</td>\n",
       "      <td>1</td>\n",
       "    </tr>\n",
       "    <tr>\n",
       "      <th>27321</th>\n",
       "      <td>sp|Q9Y6U3|SCIN_HUMAN</td>\n",
       "      <td>sp|Q13045|FLII_HUMAN</td>\n",
       "      <td>1</td>\n",
       "    </tr>\n",
       "  </tbody>\n",
       "</table>\n",
       "<p>27322 rows × 3 columns</p>\n",
       "</div>"
      ],
      "text/plain": [
       "                      qseqid                 sseqid  count\n",
       "20871  sp|Q8WZ42|TITIN_HUMAN  sp|Q5VST9|OBSCN_HUMAN    151\n",
       "20872  sp|Q8WZ42|TITIN_HUMAN  sp|Q8N9C0|IGS22_HUMAN    148\n",
       "20873  sp|Q8WZ42|TITIN_HUMAN  sp|Q14896|MYPC3_HUMAN    147\n",
       "20874  sp|Q8WZ42|TITIN_HUMAN  sp|Q00872|MYPC1_HUMAN    134\n",
       "20875  sp|Q8WZ42|TITIN_HUMAN  sp|P52179|MYOM1_HUMAN    124\n",
       "...                      ...                    ...    ...\n",
       "9629   sp|P54760|EPHB4_HUMAN  sp|Q92772|CDKL2_HUMAN      1\n",
       "9628   sp|P54760|EPHB4_HUMAN   sp|Q92918|M4K1_HUMAN      1\n",
       "9627   sp|P54760|EPHB4_HUMAN   sp|Q96J92|WNK4_HUMAN      1\n",
       "9626   sp|P54760|EPHB4_HUMAN  sp|Q96L34|MARK4_HUMAN      1\n",
       "27321   sp|Q9Y6U3|SCIN_HUMAN   sp|Q13045|FLII_HUMAN      1\n",
       "\n",
       "[27322 rows x 3 columns]"
      ]
     },
     "execution_count": 15,
     "metadata": {},
     "output_type": "execute_result"
    }
   ],
   "source": [
    "filter_blastp_df.groupby(\"qseqid\",as_index=False)[\"sseqid\"].value_counts().sort_values(\"count\",ascending=False)"
   ]
  },
  {
   "cell_type": "markdown",
   "id": "9e6b41ec",
   "metadata": {},
   "source": [
    "El mayor número de alineamientos de manera individual se da con la proteína TITIN_HUMAN. Por lo que se analizára un poco más sobre está proteína"
   ]
  },
  {
   "cell_type": "code",
   "execution_count": 47,
   "id": "f340fc00",
   "metadata": {},
   "outputs": [],
   "source": [
    "score_TITIN_HUMAN = filter_blastp_df[filter_blastp_df[\"qseqid\"]==\"sp|Q8WZ42|TITIN_HUMAN\"][\"score\"]\n",
    "align_len_TITIN_HUMAN = filter_blastp_df[filter_blastp_df[\"qseqid\"]==\"sp|Q8WZ42|TITIN_HUMAN\"][\"positive\"]"
   ]
  },
  {
   "cell_type": "code",
   "execution_count": 49,
   "id": "06da4399",
   "metadata": {},
   "outputs": [
    {
     "data": {
      "text/plain": [
       "(array([1.425e+03, 1.558e+03, 8.180e+02, 2.120e+02, 4.700e+01, 6.300e+01,\n",
       "        3.000e+01, 3.600e+01, 1.100e+01, 0.000e+00, 0.000e+00, 0.000e+00,\n",
       "        0.000e+00, 1.000e+00, 3.000e+00, 3.000e+00, 1.100e+01, 7.000e+00,\n",
       "        4.000e+00, 3.000e+00]),\n",
       " array([  49. ,  145.7,  242.4,  339.1,  435.8,  532.5,  629.2,  725.9,\n",
       "         822.6,  919.3, 1016. , 1112.7, 1209.4, 1306.1, 1402.8, 1499.5,\n",
       "        1596.2, 1692.9, 1789.6, 1886.3, 1983. ]),\n",
       " <BarContainer object of 20 artists>)"
      ]
     },
     "execution_count": 49,
     "metadata": {},
     "output_type": "execute_result"
    },
    {
     "data": {
      "image/png": "[encoded data removed]",
      "text/plain": [
       "<Figure size 432x288 with 2 Axes>"
      ]
     },
     "metadata": {
      "needs_background": "light"
     },
     "output_type": "display_data"
    }
   ],
   "source": [
    "n_bins = 20\n",
    "fig, axs = plt.subplots(1, 2, sharey=False, tight_layout=True)\n",
    "axs[0].hist(score_TITIN_HUMAN.values, bins=n_bins)\n",
    "axs[1].hist(align_len_TITIN_HUMAN.values, bins=n_bins)\n",
    "#score_TITIN_HUMAN.plot(x=\"Score\",y=\"Value\")"
   ]
  },
  {
   "cell_type": "markdown",
   "id": "b298095a",
   "metadata": {},
   "source": [
    "La mayoría de alineamientos tendra scores menores a 500. También se observa que los alineamientos positivos de mayor frecuencia son menores a 500 aa y hay alineamientos que tienen hasta 2000 aa. Esto indicaría que el tamaño de la proteína TITIN_HUMAN es bastante grande, considerando que el tamaño de las proteínas eucariotas es una media de 472 aa "
   ]
  },
  {
   "cell_type": "code",
   "execution_count": 50,
   "id": "ac751b62",
   "metadata": {},
   "outputs": [
    {
     "data": {
      "text/html": [
       "<div>\n",
       "<style scoped>\n",
       "    .dataframe tbody tr th:only-of-type {\n",
       "        vertical-align: middle;\n",
       "    }\n",
       "\n",
       "    .dataframe tbody tr th {\n",
       "        vertical-align: top;\n",
       "    }\n",
       "\n",
       "    .dataframe thead th {\n",
       "        text-align: right;\n",
       "    }\n",
       "</style>\n",
       "<table border=\"1\" class=\"dataframe\">\n",
       "  <thead>\n",
       "    <tr style=\"text-align: right;\">\n",
       "      <th></th>\n",
       "      <th>qseqid</th>\n",
       "      <th>sseqid</th>\n",
       "      <th>qlen</th>\n",
       "      <th>slen</th>\n",
       "      <th>qstart</th>\n",
       "      <th>sstart</th>\n",
       "      <th>qend</th>\n",
       "      <th>send</th>\n",
       "      <th>score</th>\n",
       "      <th>evalue</th>\n",
       "      <th>length</th>\n",
       "      <th>positive</th>\n",
       "    </tr>\n",
       "  </thead>\n",
       "  <tbody>\n",
       "    <tr>\n",
       "      <th>25790</th>\n",
       "      <td>sp|Q8WZ42|TITIN_HUMAN</td>\n",
       "      <td>sp|Q5VST9|OBSCN_HUMAN</td>\n",
       "      <td>34350</td>\n",
       "      <td>7968</td>\n",
       "      <td>4478</td>\n",
       "      <td>10</td>\n",
       "      <td>9288</td>\n",
       "      <td>4735</td>\n",
       "      <td>2221</td>\n",
       "      <td>0.0</td>\n",
       "      <td>5028</td>\n",
       "      <td>1983</td>\n",
       "    </tr>\n",
       "    <tr>\n",
       "      <th>25796</th>\n",
       "      <td>sp|Q8WZ42|TITIN_HUMAN</td>\n",
       "      <td>sp|Q5VST9|OBSCN_HUMAN</td>\n",
       "      <td>34350</td>\n",
       "      <td>7968</td>\n",
       "      <td>4664</td>\n",
       "      <td>10</td>\n",
       "      <td>9454</td>\n",
       "      <td>4695</td>\n",
       "      <td>1946</td>\n",
       "      <td>0.0</td>\n",
       "      <td>5001</td>\n",
       "      <td>1947</td>\n",
       "    </tr>\n",
       "    <tr>\n",
       "      <th>25792</th>\n",
       "      <td>sp|Q8WZ42|TITIN_HUMAN</td>\n",
       "      <td>sp|Q5VST9|OBSCN_HUMAN</td>\n",
       "      <td>34350</td>\n",
       "      <td>7968</td>\n",
       "      <td>4381</td>\n",
       "      <td>8</td>\n",
       "      <td>8984</td>\n",
       "      <td>4526</td>\n",
       "      <td>2136</td>\n",
       "      <td>0.0</td>\n",
       "      <td>4789</td>\n",
       "      <td>1891</td>\n",
       "    </tr>\n",
       "    <tr>\n",
       "      <th>25791</th>\n",
       "      <td>sp|Q8WZ42|TITIN_HUMAN</td>\n",
       "      <td>sp|Q5VST9|OBSCN_HUMAN</td>\n",
       "      <td>34350</td>\n",
       "      <td>7968</td>\n",
       "      <td>4317</td>\n",
       "      <td>40</td>\n",
       "      <td>8837</td>\n",
       "      <td>4475</td>\n",
       "      <td>2198</td>\n",
       "      <td>0.0</td>\n",
       "      <td>4710</td>\n",
       "      <td>1883</td>\n",
       "    </tr>\n",
       "    <tr>\n",
       "      <th>25793</th>\n",
       "      <td>sp|Q8WZ42|TITIN_HUMAN</td>\n",
       "      <td>sp|Q5VST9|OBSCN_HUMAN</td>\n",
       "      <td>34350</td>\n",
       "      <td>7968</td>\n",
       "      <td>5319</td>\n",
       "      <td>9</td>\n",
       "      <td>9862</td>\n",
       "      <td>4437</td>\n",
       "      <td>2100</td>\n",
       "      <td>0.0</td>\n",
       "      <td>4759</td>\n",
       "      <td>1876</td>\n",
       "    </tr>\n",
       "  </tbody>\n",
       "</table>\n",
       "</div>"
      ],
      "text/plain": [
       "                      qseqid                 sseqid   qlen  slen  qstart  \\\n",
       "25790  sp|Q8WZ42|TITIN_HUMAN  sp|Q5VST9|OBSCN_HUMAN  34350  7968    4478   \n",
       "25796  sp|Q8WZ42|TITIN_HUMAN  sp|Q5VST9|OBSCN_HUMAN  34350  7968    4664   \n",
       "25792  sp|Q8WZ42|TITIN_HUMAN  sp|Q5VST9|OBSCN_HUMAN  34350  7968    4381   \n",
       "25791  sp|Q8WZ42|TITIN_HUMAN  sp|Q5VST9|OBSCN_HUMAN  34350  7968    4317   \n",
       "25793  sp|Q8WZ42|TITIN_HUMAN  sp|Q5VST9|OBSCN_HUMAN  34350  7968    5319   \n",
       "\n",
       "       sstart  qend  send  score  evalue  length  positive  \n",
       "25790      10  9288  4735   2221     0.0    5028      1983  \n",
       "25796      10  9454  4695   1946     0.0    5001      1947  \n",
       "25792       8  8984  4526   2136     0.0    4789      1891  \n",
       "25791      40  8837  4475   2198     0.0    4710      1883  \n",
       "25793       9  9862  4437   2100     0.0    4759      1876  "
      ]
     },
     "execution_count": 50,
     "metadata": {},
     "output_type": "execute_result"
    }
   ],
   "source": [
    "filter_blastp_df[filter_blastp_df[\"qseqid\"]==\"sp|Q8WZ42|TITIN_HUMAN\"].sort_values(\"positive\",ascending= False).head(5)"
   ]
  },
  {
   "cell_type": "markdown",
   "id": "3db6fa52",
   "metadata": {},
   "source": [
    "Esto podría indicar que el tamaño de la proteína esta vinculado con el número de alineamientos de manera proporcional. Para saber si los valores de longitud de proteína y tamaño están relacionadas, se calculará su correlación, se usará la correlación de Spearman debido a que no se puede afirmar una distribución normal en los datos."
   ]
  },
  {
   "cell_type": "code",
   "execution_count": 57,
   "id": "b5a2d81c",
   "metadata": {},
   "outputs": [
    {
     "data": {
      "text/html": [
       "<div>\n",
       "<style scoped>\n",
       "    .dataframe tbody tr th:only-of-type {\n",
       "        vertical-align: middle;\n",
       "    }\n",
       "\n",
       "    .dataframe tbody tr th {\n",
       "        vertical-align: top;\n",
       "    }\n",
       "\n",
       "    .dataframe thead th {\n",
       "        text-align: right;\n",
       "    }\n",
       "</style>\n",
       "<table border=\"1\" class=\"dataframe\">\n",
       "  <thead>\n",
       "    <tr style=\"text-align: right;\">\n",
       "      <th></th>\n",
       "      <th>qlen</th>\n",
       "      <th>qseqid</th>\n",
       "    </tr>\n",
       "  </thead>\n",
       "  <tbody>\n",
       "    <tr>\n",
       "      <th>444</th>\n",
       "      <td>34350</td>\n",
       "      <td>4232</td>\n",
       "    </tr>\n",
       "    <tr>\n",
       "      <th>480</th>\n",
       "      <td>5635</td>\n",
       "      <td>2213</td>\n",
       "    </tr>\n",
       "    <tr>\n",
       "      <th>550</th>\n",
       "      <td>4349</td>\n",
       "      <td>1743</td>\n",
       "    </tr>\n",
       "    <tr>\n",
       "      <th>459</th>\n",
       "      <td>500</td>\n",
       "      <td>1415</td>\n",
       "    </tr>\n",
       "    <tr>\n",
       "      <th>401</th>\n",
       "      <td>782</td>\n",
       "      <td>1392</td>\n",
       "    </tr>\n",
       "  </tbody>\n",
       "</table>\n",
       "</div>"
      ],
      "text/plain": [
       "      qlen  qseqid\n",
       "444  34350    4232\n",
       "480   5635    2213\n",
       "550   4349    1743\n",
       "459    500    1415\n",
       "401    782    1392"
      ]
     },
     "execution_count": 57,
     "metadata": {},
     "output_type": "execute_result"
    }
   ],
   "source": [
    "len_freq = filter_blastp_df.groupby([\"qseqid\",\"qlen\"],as_index=False)[\"qseqid\"].count().sort_values(\"qseqid\",ascending=False)\n",
    "len_freq.head(5)"
   ]
  },
  {
   "cell_type": "code",
   "execution_count": 73,
   "id": "503c16b0",
   "metadata": {},
   "outputs": [],
   "source": [
    "x = len_freq[\"qlen\"]\n",
    "y = len_freq[\"qseqid\"]"
   ]
  },
  {
   "cell_type": "code",
   "execution_count": 75,
   "id": "637cb4af",
   "metadata": {},
   "outputs": [
    {
     "data": {
      "text/plain": [
       "SpearmanrResult(correlation=0.158979794176913, pvalue=9.704641886185162e-05)"
      ]
     },
     "execution_count": 75,
     "metadata": {},
     "output_type": "execute_result"
    }
   ],
   "source": [
    "spearmanr(x,y)"
   ]
  },
  {
   "cell_type": "code",
   "execution_count": 65,
   "id": "c7603354",
   "metadata": {},
   "outputs": [
    {
     "data": {
      "text/plain": [
       "<matplotlib.collections.PathCollection at 0x1f54e98f580>"
      ]
     },
     "execution_count": 65,
     "metadata": {},
     "output_type": "execute_result"
    },
    {
     "data": {
      "image/png": "[encoded data removed]",
      "text/plain": [
       "<Figure size 576x576 with 1 Axes>"
      ]
     },
     "metadata": {
      "needs_background": "light"
     },
     "output_type": "display_data"
    }
   ],
   "source": [
    "fig, ax = plt.subplots(figsize = (8, 8))\n",
    "ax.scatter(x, y, s=60, alpha=0.7, edgecolors=\"k\")\n",
    "#ax.plot(x, y_pred, color=\"k\", lw=2.5)"
   ]
  },
  {
   "cell_type": "markdown",
   "id": "9c763598",
   "metadata": {},
   "source": [
    "La correlación es aproximadamente 0.1 indicando que no hay una relación directamente proporcional entre la longitud de la proteína y el número de alineamientos. En la gráfica también se puede visualizar que a pesar de que la proteína más grande es la que presenta un mayor número de alineamientos, las demás proteínas no presentan una relación lineal entre su logitud y número de alineamientos."
   ]
  },
  {
   "cell_type": "markdown",
   "id": "707adcd8",
   "metadata": {},
   "source": [
    "### Búsqueda de dominios funcionales en el subset de proteínas de interés"
   ]
  },
  {
   "cell_type": "code",
   "execution_count": 61,
   "id": "3c584870",
   "metadata": {},
   "outputs": [],
   "source": [
    "query_str = \"\"\n",
    "for record in SeqIO.parse(query_file,\"fasta\"):\n",
    "    seq_id = record.id\n",
    "    if (seq_id in candidate_genes):\n",
    "        seq_str = str(record.seq)\n",
    "        query_str+= \">\"+seq_id+\"\\n\"+seq_str+\"\\n\"\n",
    "query_str = query_str.replace(\"*\",\"\")"
   ]
  },
  {
   "cell_type": "code",
   "execution_count": 40,
   "id": "98272451",
   "metadata": {},
   "outputs": [],
   "source": [
    "submit_data = {\"email\":\"ana.romani1@unmsm.edu.pe\",\n",
    "               \"title\":\"proteins_melanoma\",\n",
    "               \"goterms\":\"false\",\n",
    "               \"pathways\":\"false\",\n",
    "               \"stype\":\"p\",\n",
    "               \"sequence\":query_str}"
   ]
  },
  {
   "cell_type": "code",
   "execution_count": 41,
   "id": "0e5b60bf",
   "metadata": {},
   "outputs": [],
   "source": [
    "submit_url   = \"https://www.ebi.ac.uk/Tools/services/rest/iprscan5/run\"\n",
    "progress_url = \"https://www.ebi.ac.uk/Tools/services/rest/iprscan5/status\"\n",
    "results_url  = \"https://www.ebi.ac.uk/Tools/services/rest/iprscan5/result\""
   ]
  },
  {
   "cell_type": "code",
   "execution_count": 42,
   "id": "f32d64e4",
   "metadata": {},
   "outputs": [],
   "source": [
    "submit_headers   = {\"Accept\":\"text/plain\"}\n",
    "progress_headers = {\"Accept\":\"text/plain\"}\n",
    "results_headers  = {\"Accept\":\"text/tab-separated-values\"}"
   ]
  },
  {
   "cell_type": "code",
   "execution_count": 43,
   "id": "0320ab20",
   "metadata": {},
   "outputs": [],
   "source": [
    "submit_request = requests.post(submit_url,data=submit_data,headers=submit_headers)"
   ]
  },
  {
   "cell_type": "code",
   "execution_count": 44,
   "id": "2447eb14",
   "metadata": {},
   "outputs": [],
   "source": [
    "submit_status_code = submit_request.status_code\n",
    "submit_job_id      = submit_request.text"
   ]
  },
  {
   "cell_type": "code",
   "execution_count": 45,
   "id": "e321bf9b",
   "metadata": {},
   "outputs": [
    {
     "name": "stdout",
     "output_type": "stream",
     "text": [
      "200\n",
      "iprscan5-R20230313-131324-0229-49232315-p1m\n"
     ]
    }
   ],
   "source": [
    "print(submit_status_code)\n",
    "print(submit_job_id)"
   ]
  },
  {
   "cell_type": "code",
   "execution_count": 81,
   "id": "61e337af",
   "metadata": {},
   "outputs": [
    {
     "name": "stdout",
     "output_type": "stream",
     "text": [
      "200\n",
      "FINISHED\n"
     ]
    }
   ],
   "source": [
    "progress_request     = requests.get(progress_url+\"/\"+submit_job_id,headers=progress_headers)\n",
    "progress_status_code = progress_request.status_code\n",
    "progress_status      = progress_request.text\n",
    "print(progress_status_code)\n",
    "print(progress_status)"
   ]
  },
  {
   "cell_type": "code",
   "execution_count": 82,
   "id": "d4342306",
   "metadata": {},
   "outputs": [],
   "source": [
    "results_log_request = requests.get(results_url+\"/\"+submit_job_id+\"/log\",headers=results_headers)\n",
    "results_tsv_request = requests.get(results_url+\"/\"+submit_job_id+\"/tsv\",headers=results_headers)"
   ]
  },
  {
   "cell_type": "code",
   "execution_count": 83,
   "id": "4dcd2b2a",
   "metadata": {},
   "outputs": [
    {
     "name": "stdout",
     "output_type": "stream",
     "text": [
      "13/03/2023 13:13:50:167 Welcome to InterProScan-5.61-93.0\n",
      "13/03/2023 13:13:50:168 Running InterProScan v5 in STANDALONE mode... on Linux\n",
      "13/03/2023 13:13:57:282 RunID: hh-wp-02-12.ebi.ac.uk_20230313_131356958_i75d\n",
      "13/03/2023 13:14:09:993 Loading file /nfs/public/rw/es/projects/wp-jdispatcher/logs/prod/sources/jobs/iprscan5/rest/20230313/1312/iprscan5-R20230313-131324-0229-49232315-p1m.sequence\n",
      "13/03/2023 13:14:09:996 Running the following analyses:\n",
      "[AntiFam-7.0,CDD-3.20,Coils-2.2.1,FunFam-4.3.0,Gene3D-4.3.0,Hamap-2021_04,MobiDBLite-2.0,PANTHER-17.0,Pfam-35.0,Phobius-1.01,PIRSF-3.10,PIRSR-2021_05,PRINTS-42.0,ProSitePatterns-2022_05,ProSiteProfiles-2022_05,SFLD-4,SignalP_EUK-4.1,SignalP_GRAM_NEGATIVE-4.1,SignalP_GRAM_POSITIVE-4.1,SMART-9.0,SUPERFAMILY-1.75,TIGRFAM-15.0,TMHMM-2.0c]\n",
      "Available matches will be retrieved from the pre-calculated match lookup service.\n",
      "\n",
      "Matches for any sequences that are not represented in the lookup service will be calculated locally.\n",
      "13/03/2023 13:21:11:189 87% completed\n",
      "13/03/2023 13:26:55:119 90% completed\n",
      "13/03/2023 13:39:05:029 100% done:  InterProScan analyses completed \n",
      "\n",
      "2023-03-13 13:39:05,537 [main] [uk.ac.ebi.interpro.scan.jms.master.AbstractMaster:259] WARN - Master process unable to delete temporary directory /nfs/public/rw/es/projects/wp-jdispatcher/logs/prod/sources/jobs/iprscan5/rest/20230313/1312/temp/hh-wp-02-12.ebi.ac.uk_20230313_131356958_i75d\n",
      "\n"
     ]
    }
   ],
   "source": [
    "print(results_log_request.text)"
   ]
  },
  {
   "cell_type": "code",
   "execution_count": 84,
   "id": "5a933e87",
   "metadata": {},
   "outputs": [],
   "source": [
    "results_tsv_str = StringIO(results_tsv_request.text)\n",
    "results_column_names = [\"sequence\",\"md5\",\"length\",\"database\",\"accession\",\"description\",\"start\",\"end\",\"evalue\",\"post_processed\",\"date\",\"entry\",\"name\"]\n",
    "results_df = pd.read_csv(results_tsv_str,sep=\"\\t\",names=results_column_names)"
   ]
  },
  {
   "cell_type": "code",
   "execution_count": 88,
   "id": "439ff728",
   "metadata": {},
   "outputs": [],
   "source": [
    "results_df.to_csv(\"results_interproscan_query.tsv\",sep='\\t',index=False)"
   ]
  },
  {
   "cell_type": "code",
   "execution_count": 76,
   "id": "1a80ff2d",
   "metadata": {},
   "outputs": [],
   "source": [
    "all_domains=pd.read_csv(\"results_interproscan_query.tsv\",sep='\\t')"
   ]
  },
  {
   "cell_type": "code",
   "execution_count": 77,
   "id": "9ce71b79",
   "metadata": {},
   "outputs": [
    {
     "data": {
      "text/html": [
       "<div>\n",
       "<style scoped>\n",
       "    .dataframe tbody tr th:only-of-type {\n",
       "        vertical-align: middle;\n",
       "    }\n",
       "\n",
       "    .dataframe tbody tr th {\n",
       "        vertical-align: top;\n",
       "    }\n",
       "\n",
       "    .dataframe thead th {\n",
       "        text-align: right;\n",
       "    }\n",
       "</style>\n",
       "<table border=\"1\" class=\"dataframe\">\n",
       "  <thead>\n",
       "    <tr style=\"text-align: right;\">\n",
       "      <th></th>\n",
       "      <th>sequence</th>\n",
       "      <th>md5</th>\n",
       "      <th>length</th>\n",
       "      <th>database</th>\n",
       "      <th>accession</th>\n",
       "      <th>description</th>\n",
       "      <th>start</th>\n",
       "      <th>end</th>\n",
       "      <th>evalue</th>\n",
       "      <th>post_processed</th>\n",
       "      <th>date</th>\n",
       "      <th>entry</th>\n",
       "      <th>name</th>\n",
       "    </tr>\n",
       "  </thead>\n",
       "  <tbody>\n",
       "    <tr>\n",
       "      <th>0</th>\n",
       "      <td>sp|Q8N448|LNX2_HUMAN</td>\n",
       "      <td>4b9ca3d3b6b17132cab42a4f37472d1a</td>\n",
       "      <td>690</td>\n",
       "      <td>PANTHER</td>\n",
       "      <td>PTHR19964</td>\n",
       "      <td>MULTIPLE PDZ DOMAIN PROTEIN</td>\n",
       "      <td>24</td>\n",
       "      <td>678</td>\n",
       "      <td>3.0E-141</td>\n",
       "      <td>T</td>\n",
       "      <td>13-03-2023</td>\n",
       "      <td>-</td>\n",
       "      <td>-</td>\n",
       "    </tr>\n",
       "    <tr>\n",
       "      <th>1</th>\n",
       "      <td>sp|Q8N448|LNX2_HUMAN</td>\n",
       "      <td>4b9ca3d3b6b17132cab42a4f37472d1a</td>\n",
       "      <td>690</td>\n",
       "      <td>SMART</td>\n",
       "      <td>SM00228</td>\n",
       "      <td>pdz_new</td>\n",
       "      <td>609</td>\n",
       "      <td>686</td>\n",
       "      <td>1.6E-16</td>\n",
       "      <td>T</td>\n",
       "      <td>13-03-2023</td>\n",
       "      <td>IPR001478</td>\n",
       "      <td>PDZ domain</td>\n",
       "    </tr>\n",
       "    <tr>\n",
       "      <th>2</th>\n",
       "      <td>sp|Q8N448|LNX2_HUMAN</td>\n",
       "      <td>4b9ca3d3b6b17132cab42a4f37472d1a</td>\n",
       "      <td>690</td>\n",
       "      <td>SMART</td>\n",
       "      <td>SM00228</td>\n",
       "      <td>pdz_new</td>\n",
       "      <td>477</td>\n",
       "      <td>556</td>\n",
       "      <td>3.6E-13</td>\n",
       "      <td>T</td>\n",
       "      <td>13-03-2023</td>\n",
       "      <td>IPR001478</td>\n",
       "      <td>PDZ domain</td>\n",
       "    </tr>\n",
       "    <tr>\n",
       "      <th>3</th>\n",
       "      <td>sp|Q8N448|LNX2_HUMAN</td>\n",
       "      <td>4b9ca3d3b6b17132cab42a4f37472d1a</td>\n",
       "      <td>690</td>\n",
       "      <td>SMART</td>\n",
       "      <td>SM00228</td>\n",
       "      <td>pdz_new</td>\n",
       "      <td>243</td>\n",
       "      <td>318</td>\n",
       "      <td>9.0E-18</td>\n",
       "      <td>T</td>\n",
       "      <td>13-03-2023</td>\n",
       "      <td>IPR001478</td>\n",
       "      <td>PDZ domain</td>\n",
       "    </tr>\n",
       "    <tr>\n",
       "      <th>4</th>\n",
       "      <td>sp|Q8N448|LNX2_HUMAN</td>\n",
       "      <td>4b9ca3d3b6b17132cab42a4f37472d1a</td>\n",
       "      <td>690</td>\n",
       "      <td>SMART</td>\n",
       "      <td>SM00228</td>\n",
       "      <td>pdz_new</td>\n",
       "      <td>349</td>\n",
       "      <td>422</td>\n",
       "      <td>9.5E-17</td>\n",
       "      <td>T</td>\n",
       "      <td>13-03-2023</td>\n",
       "      <td>IPR001478</td>\n",
       "      <td>PDZ domain</td>\n",
       "    </tr>\n",
       "  </tbody>\n",
       "</table>\n",
       "</div>"
      ],
      "text/plain": [
       "               sequence                               md5  length database  \\\n",
       "0  sp|Q8N448|LNX2_HUMAN  4b9ca3d3b6b17132cab42a4f37472d1a     690  PANTHER   \n",
       "1  sp|Q8N448|LNX2_HUMAN  4b9ca3d3b6b17132cab42a4f37472d1a     690    SMART   \n",
       "2  sp|Q8N448|LNX2_HUMAN  4b9ca3d3b6b17132cab42a4f37472d1a     690    SMART   \n",
       "3  sp|Q8N448|LNX2_HUMAN  4b9ca3d3b6b17132cab42a4f37472d1a     690    SMART   \n",
       "4  sp|Q8N448|LNX2_HUMAN  4b9ca3d3b6b17132cab42a4f37472d1a     690    SMART   \n",
       "\n",
       "   accession                  description  start  end    evalue  \\\n",
       "0  PTHR19964  MULTIPLE PDZ DOMAIN PROTEIN     24  678  3.0E-141   \n",
       "1    SM00228                      pdz_new    609  686   1.6E-16   \n",
       "2    SM00228                      pdz_new    477  556   3.6E-13   \n",
       "3    SM00228                      pdz_new    243  318   9.0E-18   \n",
       "4    SM00228                      pdz_new    349  422   9.5E-17   \n",
       "\n",
       "  post_processed        date      entry        name  \n",
       "0              T  13-03-2023          -           -  \n",
       "1              T  13-03-2023  IPR001478  PDZ domain  \n",
       "2              T  13-03-2023  IPR001478  PDZ domain  \n",
       "3              T  13-03-2023  IPR001478  PDZ domain  \n",
       "4              T  13-03-2023  IPR001478  PDZ domain  "
      ]
     },
     "execution_count": 77,
     "metadata": {},
     "output_type": "execute_result"
    }
   ],
   "source": [
    "all_domains.head()"
   ]
  },
  {
   "cell_type": "markdown",
   "id": "7853599a",
   "metadata": {},
   "source": [
    "Se procedera a un filtrado por un valor e-value de 1e-9 "
   ]
  },
  {
   "cell_type": "code",
   "execution_count": 13,
   "id": "e3db014b",
   "metadata": {},
   "outputs": [
    {
     "name": "stdout",
     "output_type": "stream",
     "text": [
      "<class 'pandas.core.frame.DataFrame'>\n",
      "RangeIndex: 18145 entries, 0 to 18144\n",
      "Data columns (total 13 columns):\n",
      " #   Column          Non-Null Count  Dtype \n",
      "---  ------          --------------  ----- \n",
      " 0   sequence        18145 non-null  object\n",
      " 1   md5             18145 non-null  object\n",
      " 2   length          18145 non-null  int64 \n",
      " 3   database        18145 non-null  object\n",
      " 4   accession       18145 non-null  object\n",
      " 5   description     18145 non-null  object\n",
      " 6   start           18145 non-null  int64 \n",
      " 7   end             18145 non-null  int64 \n",
      " 8   evalue          18145 non-null  object\n",
      " 9   post_processed  18145 non-null  object\n",
      " 10  date            18145 non-null  object\n",
      " 11  entry           18145 non-null  object\n",
      " 12  name            18145 non-null  object\n",
      "dtypes: int64(3), object(10)\n",
      "memory usage: 1.8+ MB\n"
     ]
    }
   ],
   "source": [
    "all_domains.info()"
   ]
  },
  {
   "cell_type": "markdown",
   "id": "9856312b",
   "metadata": {},
   "source": [
    "Debido a que el tipo de datos de e-value no se han leído como valores númericos se los transformara"
   ]
  },
  {
   "cell_type": "code",
   "execution_count": 78,
   "id": "9b035501",
   "metadata": {},
   "outputs": [],
   "source": [
    "convert_num = pd.Series(all_domains[\"evalue\"])\n",
    "check=convert_num.str.split(\"E-\")\n",
    "def evalue_conversion(element):\n",
    "    try:\n",
    "        pd.reset_option('display.float_format')\n",
    "        num = float(element[0])*(10**(-int(element[1])))\n",
    "    except:\n",
    "        num = \"no_processed\"\n",
    "    return num\n",
    "pd.reset_option('display.float_format', '{:.1E}'.format)\n",
    "check_2 = check.apply(evalue_conversion)"
   ]
  },
  {
   "cell_type": "code",
   "execution_count": 15,
   "id": "5926b77b",
   "metadata": {},
   "outputs": [
    {
     "data": {
      "text/plain": [
       "0                 0.0\n",
       "1                 0.0\n",
       "2                 0.0\n",
       "3                 0.0\n",
       "4                 0.0\n",
       "             ...     \n",
       "18140             0.0\n",
       "18141    no_processed\n",
       "18142             0.0\n",
       "18143             0.0\n",
       "18144    no_processed\n",
       "Name: evalue, Length: 18145, dtype: object"
      ]
     },
     "execution_count": 15,
     "metadata": {},
     "output_type": "execute_result"
    }
   ],
   "source": [
    "check_2"
   ]
  },
  {
   "cell_type": "code",
   "execution_count": 79,
   "id": "29c079d2",
   "metadata": {},
   "outputs": [],
   "source": [
    "all_domains[\"evalue\"]=check_2\n",
    "all_domains = all_domains[all_domains[\"evalue\"]!=\"no_processed\"]"
   ]
  },
  {
   "cell_type": "code",
   "execution_count": 80,
   "id": "a27e5e1e",
   "metadata": {},
   "outputs": [
    {
     "data": {
      "text/plain": [
       "0        3.000000e-141\n",
       "1         1.600000e-16\n",
       "2         3.600000e-13\n",
       "3         9.000000e-18\n",
       "4         9.500000e-17\n",
       "             ...      \n",
       "18137     3.000000e-67\n",
       "18139     4.400000e-93\n",
       "18140     5.200000e-66\n",
       "18142     2.000000e-43\n",
       "18143     1.100000e-13\n",
       "Name: evalue, Length: 10204, dtype: float64"
      ]
     },
     "execution_count": 80,
     "metadata": {},
     "output_type": "execute_result"
    }
   ],
   "source": [
    "pd.to_numeric(all_domains[\"evalue\"])"
   ]
  },
  {
   "cell_type": "code",
   "execution_count": 81,
   "id": "3022b57a",
   "metadata": {},
   "outputs": [
    {
     "data": {
      "text/html": [
       "<div>\n",
       "<style scoped>\n",
       "    .dataframe tbody tr th:only-of-type {\n",
       "        vertical-align: middle;\n",
       "    }\n",
       "\n",
       "    .dataframe tbody tr th {\n",
       "        vertical-align: top;\n",
       "    }\n",
       "\n",
       "    .dataframe thead th {\n",
       "        text-align: right;\n",
       "    }\n",
       "</style>\n",
       "<table border=\"1\" class=\"dataframe\">\n",
       "  <thead>\n",
       "    <tr style=\"text-align: right;\">\n",
       "      <th></th>\n",
       "      <th>sequence</th>\n",
       "      <th>md5</th>\n",
       "      <th>length</th>\n",
       "      <th>database</th>\n",
       "      <th>accession</th>\n",
       "      <th>description</th>\n",
       "      <th>start</th>\n",
       "      <th>end</th>\n",
       "      <th>evalue</th>\n",
       "      <th>post_processed</th>\n",
       "      <th>date</th>\n",
       "      <th>entry</th>\n",
       "      <th>name</th>\n",
       "    </tr>\n",
       "  </thead>\n",
       "  <tbody>\n",
       "    <tr>\n",
       "      <th>0</th>\n",
       "      <td>sp|Q8N448|LNX2_HUMAN</td>\n",
       "      <td>4b9ca3d3b6b17132cab42a4f37472d1a</td>\n",
       "      <td>690</td>\n",
       "      <td>PANTHER</td>\n",
       "      <td>PTHR19964</td>\n",
       "      <td>MULTIPLE PDZ DOMAIN PROTEIN</td>\n",
       "      <td>24</td>\n",
       "      <td>678</td>\n",
       "      <td>0.0</td>\n",
       "      <td>T</td>\n",
       "      <td>13-03-2023</td>\n",
       "      <td>-</td>\n",
       "      <td>-</td>\n",
       "    </tr>\n",
       "    <tr>\n",
       "      <th>1</th>\n",
       "      <td>sp|Q8N448|LNX2_HUMAN</td>\n",
       "      <td>4b9ca3d3b6b17132cab42a4f37472d1a</td>\n",
       "      <td>690</td>\n",
       "      <td>SMART</td>\n",
       "      <td>SM00228</td>\n",
       "      <td>pdz_new</td>\n",
       "      <td>609</td>\n",
       "      <td>686</td>\n",
       "      <td>0.0</td>\n",
       "      <td>T</td>\n",
       "      <td>13-03-2023</td>\n",
       "      <td>IPR001478</td>\n",
       "      <td>PDZ domain</td>\n",
       "    </tr>\n",
       "    <tr>\n",
       "      <th>2</th>\n",
       "      <td>sp|Q8N448|LNX2_HUMAN</td>\n",
       "      <td>4b9ca3d3b6b17132cab42a4f37472d1a</td>\n",
       "      <td>690</td>\n",
       "      <td>SMART</td>\n",
       "      <td>SM00228</td>\n",
       "      <td>pdz_new</td>\n",
       "      <td>477</td>\n",
       "      <td>556</td>\n",
       "      <td>0.0</td>\n",
       "      <td>T</td>\n",
       "      <td>13-03-2023</td>\n",
       "      <td>IPR001478</td>\n",
       "      <td>PDZ domain</td>\n",
       "    </tr>\n",
       "    <tr>\n",
       "      <th>3</th>\n",
       "      <td>sp|Q8N448|LNX2_HUMAN</td>\n",
       "      <td>4b9ca3d3b6b17132cab42a4f37472d1a</td>\n",
       "      <td>690</td>\n",
       "      <td>SMART</td>\n",
       "      <td>SM00228</td>\n",
       "      <td>pdz_new</td>\n",
       "      <td>243</td>\n",
       "      <td>318</td>\n",
       "      <td>0.0</td>\n",
       "      <td>T</td>\n",
       "      <td>13-03-2023</td>\n",
       "      <td>IPR001478</td>\n",
       "      <td>PDZ domain</td>\n",
       "    </tr>\n",
       "  </tbody>\n",
       "</table>\n",
       "</div>"
      ],
      "text/plain": [
       "               sequence                               md5  length database  \\\n",
       "0  sp|Q8N448|LNX2_HUMAN  4b9ca3d3b6b17132cab42a4f37472d1a     690  PANTHER   \n",
       "1  sp|Q8N448|LNX2_HUMAN  4b9ca3d3b6b17132cab42a4f37472d1a     690    SMART   \n",
       "2  sp|Q8N448|LNX2_HUMAN  4b9ca3d3b6b17132cab42a4f37472d1a     690    SMART   \n",
       "3  sp|Q8N448|LNX2_HUMAN  4b9ca3d3b6b17132cab42a4f37472d1a     690    SMART   \n",
       "\n",
       "   accession                  description  start  end evalue post_processed  \\\n",
       "0  PTHR19964  MULTIPLE PDZ DOMAIN PROTEIN     24  678    0.0              T   \n",
       "1    SM00228                      pdz_new    609  686    0.0              T   \n",
       "2    SM00228                      pdz_new    477  556    0.0              T   \n",
       "3    SM00228                      pdz_new    243  318    0.0              T   \n",
       "\n",
       "         date      entry        name  \n",
       "0  13-03-2023          -           -  \n",
       "1  13-03-2023  IPR001478  PDZ domain  \n",
       "2  13-03-2023  IPR001478  PDZ domain  \n",
       "3  13-03-2023  IPR001478  PDZ domain  "
      ]
     },
     "execution_count": 81,
     "metadata": {},
     "output_type": "execute_result"
    }
   ],
   "source": [
    "all_domains.head(4)"
   ]
  },
  {
   "cell_type": "code",
   "execution_count": 82,
   "id": "29d5ce3b",
   "metadata": {},
   "outputs": [],
   "source": [
    "all_domains_filter = all_domains[all_domains[\"evalue\"]<=1e-9]"
   ]
  },
  {
   "cell_type": "code",
   "execution_count": 83,
   "id": "21cb9e00",
   "metadata": {},
   "outputs": [
    {
     "data": {
      "text/plain": [
       "(10204, 13)"
      ]
     },
     "execution_count": 83,
     "metadata": {},
     "output_type": "execute_result"
    }
   ],
   "source": [
    "all_domains.shape"
   ]
  },
  {
   "cell_type": "code",
   "execution_count": 84,
   "id": "a84a6eba",
   "metadata": {},
   "outputs": [
    {
     "data": {
      "text/plain": [
       "(8891, 13)"
      ]
     },
     "execution_count": 84,
     "metadata": {},
     "output_type": "execute_result"
    }
   ],
   "source": [
    "all_domains_filter.shape"
   ]
  },
  {
   "cell_type": "code",
   "execution_count": 85,
   "id": "15691d2b",
   "metadata": {},
   "outputs": [
    {
     "data": {
      "text/html": [
       "<div>\n",
       "<style scoped>\n",
       "    .dataframe tbody tr th:only-of-type {\n",
       "        vertical-align: middle;\n",
       "    }\n",
       "\n",
       "    .dataframe tbody tr th {\n",
       "        vertical-align: top;\n",
       "    }\n",
       "\n",
       "    .dataframe thead th {\n",
       "        text-align: right;\n",
       "    }\n",
       "</style>\n",
       "<table border=\"1\" class=\"dataframe\">\n",
       "  <thead>\n",
       "    <tr style=\"text-align: right;\">\n",
       "      <th></th>\n",
       "      <th>accession</th>\n",
       "    </tr>\n",
       "  </thead>\n",
       "  <tbody>\n",
       "    <tr>\n",
       "      <th>G3DSA:2.60.40.10</th>\n",
       "      <td>431</td>\n",
       "    </tr>\n",
       "    <tr>\n",
       "      <th>SSF48726</th>\n",
       "      <td>236</td>\n",
       "    </tr>\n",
       "    <tr>\n",
       "      <th>PF07679</th>\n",
       "      <td>171</td>\n",
       "    </tr>\n",
       "    <tr>\n",
       "      <th>cd00063</th>\n",
       "      <td>152</td>\n",
       "    </tr>\n",
       "    <tr>\n",
       "      <th>SM00060</th>\n",
       "      <td>138</td>\n",
       "    </tr>\n",
       "    <tr>\n",
       "      <th>PF00041</th>\n",
       "      <td>134</td>\n",
       "    </tr>\n",
       "    <tr>\n",
       "      <th>SSF49265</th>\n",
       "      <td>101</td>\n",
       "    </tr>\n",
       "    <tr>\n",
       "      <th>PR00449</th>\n",
       "      <td>94</td>\n",
       "    </tr>\n",
       "    <tr>\n",
       "      <th>PR00109</th>\n",
       "      <td>88</td>\n",
       "    </tr>\n",
       "    <tr>\n",
       "      <th>SSF56112</th>\n",
       "      <td>76</td>\n",
       "    </tr>\n",
       "  </tbody>\n",
       "</table>\n",
       "</div>"
      ],
      "text/plain": [
       "                  accession\n",
       "G3DSA:2.60.40.10        431\n",
       "SSF48726                236\n",
       "PF07679                 171\n",
       "cd00063                 152\n",
       "SM00060                 138\n",
       "PF00041                 134\n",
       "SSF49265                101\n",
       "PR00449                  94\n",
       "PR00109                  88\n",
       "SSF56112                 76"
      ]
     },
     "execution_count": 85,
     "metadata": {},
     "output_type": "execute_result"
    }
   ],
   "source": [
    "pd.DataFrame(all_domains_filter[\"accession\"].value_counts().head(10))"
   ]
  },
  {
   "cell_type": "markdown",
   "id": "48113bcd",
   "metadata": {},
   "source": [
    "El dominio que se ha predicho con mayor frecuencia dentro de las proteínas relacionadas con melanoma es G3DSA:2.60.40.10"
   ]
  },
  {
   "cell_type": "markdown",
   "id": "77019fff",
   "metadata": {},
   "source": [
    "### Análisis de los resultados de BLAST e Interproscan"
   ]
  },
  {
   "cell_type": "markdown",
   "id": "bcd0264f",
   "metadata": {},
   "source": [
    "Se procedera a unir los resultados de BLAST con InterProScan"
   ]
  },
  {
   "cell_type": "code",
   "execution_count": 86,
   "id": "8e5d3e39",
   "metadata": {},
   "outputs": [],
   "source": [
    "# Generate table of variations\n",
    "all_table = filter_blastp_df.merge(all_domains_filter,left_on=\"qseqid\",right_on=\"sequence\")"
   ]
  },
  {
   "cell_type": "code",
   "execution_count": 87,
   "id": "dd60e088",
   "metadata": {},
   "outputs": [
    {
     "data": {
      "text/plain": [
       "(7747778, 25)"
      ]
     },
     "execution_count": 87,
     "metadata": {},
     "output_type": "execute_result"
    }
   ],
   "source": [
    "all_table.shape"
   ]
  },
  {
   "cell_type": "markdown",
   "id": "967a2c8c",
   "metadata": {},
   "source": [
    "Se hara un filtro con respecto a los alineamientos que tengan dentro los dominios"
   ]
  },
  {
   "cell_type": "code",
   "execution_count": 88,
   "id": "bcaa33c3",
   "metadata": {},
   "outputs": [],
   "source": [
    "all_table_copy = all_table.copy()"
   ]
  },
  {
   "cell_type": "code",
   "execution_count": 89,
   "id": "383f0b44",
   "metadata": {},
   "outputs": [],
   "source": [
    "all_table_copy = all_table_copy[(all_table_copy[\"start\"]>=all_table_copy[\"qstart\"]) &(all_table_copy[\"end\"]<=all_table_copy[\"qend\"])]"
   ]
  },
  {
   "cell_type": "code",
   "execution_count": 90,
   "id": "a4737a38",
   "metadata": {},
   "outputs": [
    {
     "data": {
      "text/plain": [
       "7310195"
      ]
     },
     "execution_count": 90,
     "metadata": {},
     "output_type": "execute_result"
    }
   ],
   "source": [
    "all_table.shape[0]-all_table_copy.shape[0]"
   ]
  },
  {
   "cell_type": "code",
   "execution_count": 91,
   "id": "f9edab4e",
   "metadata": {},
   "outputs": [
    {
     "data": {
      "text/html": [
       "<div>\n",
       "<style scoped>\n",
       "    .dataframe tbody tr th:only-of-type {\n",
       "        vertical-align: middle;\n",
       "    }\n",
       "\n",
       "    .dataframe tbody tr th {\n",
       "        vertical-align: top;\n",
       "    }\n",
       "\n",
       "    .dataframe thead th {\n",
       "        text-align: right;\n",
       "    }\n",
       "</style>\n",
       "<table border=\"1\" class=\"dataframe\">\n",
       "  <thead>\n",
       "    <tr style=\"text-align: right;\">\n",
       "      <th></th>\n",
       "      <th>qseqid</th>\n",
       "      <th>sseqid</th>\n",
       "      <th>qlen</th>\n",
       "      <th>slen</th>\n",
       "      <th>qstart</th>\n",
       "      <th>sstart</th>\n",
       "      <th>qend</th>\n",
       "      <th>send</th>\n",
       "      <th>score</th>\n",
       "      <th>evalue_x</th>\n",
       "      <th>...</th>\n",
       "      <th>database</th>\n",
       "      <th>accession</th>\n",
       "      <th>description</th>\n",
       "      <th>start</th>\n",
       "      <th>end</th>\n",
       "      <th>evalue_y</th>\n",
       "      <th>post_processed</th>\n",
       "      <th>date</th>\n",
       "      <th>entry</th>\n",
       "      <th>name</th>\n",
       "    </tr>\n",
       "  </thead>\n",
       "  <tbody>\n",
       "    <tr>\n",
       "      <th>0</th>\n",
       "      <td>sp|A0A5B9|TRBC2_HUMAN</td>\n",
       "      <td>sp|P0DTU4|TRBR2_HUMAN</td>\n",
       "      <td>178</td>\n",
       "      <td>315</td>\n",
       "      <td>1</td>\n",
       "      <td>138</td>\n",
       "      <td>178</td>\n",
       "      <td>315</td>\n",
       "      <td>958</td>\n",
       "      <td>5.000000e-131</td>\n",
       "      <td>...</td>\n",
       "      <td>SUPERFAMILY</td>\n",
       "      <td>SSF48726</td>\n",
       "      <td>Immunoglobulin</td>\n",
       "      <td>3</td>\n",
       "      <td>118</td>\n",
       "      <td>0.0</td>\n",
       "      <td>T</td>\n",
       "      <td>13-03-2023</td>\n",
       "      <td>IPR036179</td>\n",
       "      <td>Immunoglobulin-like domain superfamily</td>\n",
       "    </tr>\n",
       "    <tr>\n",
       "      <th>1</th>\n",
       "      <td>sp|A0A5B9|TRBC2_HUMAN</td>\n",
       "      <td>sp|P0DTU4|TRBR2_HUMAN</td>\n",
       "      <td>178</td>\n",
       "      <td>315</td>\n",
       "      <td>1</td>\n",
       "      <td>138</td>\n",
       "      <td>178</td>\n",
       "      <td>315</td>\n",
       "      <td>958</td>\n",
       "      <td>5.000000e-131</td>\n",
       "      <td>...</td>\n",
       "      <td>PANTHER</td>\n",
       "      <td>PTHR23411</td>\n",
       "      <td>TAPASIN</td>\n",
       "      <td>8</td>\n",
       "      <td>131</td>\n",
       "      <td>0.0</td>\n",
       "      <td>T</td>\n",
       "      <td>13-03-2023</td>\n",
       "      <td>-</td>\n",
       "      <td>-</td>\n",
       "    </tr>\n",
       "    <tr>\n",
       "      <th>2</th>\n",
       "      <td>sp|A0A5B9|TRBC2_HUMAN</td>\n",
       "      <td>sp|P0DTU4|TRBR2_HUMAN</td>\n",
       "      <td>178</td>\n",
       "      <td>315</td>\n",
       "      <td>1</td>\n",
       "      <td>138</td>\n",
       "      <td>178</td>\n",
       "      <td>315</td>\n",
       "      <td>958</td>\n",
       "      <td>5.000000e-131</td>\n",
       "      <td>...</td>\n",
       "      <td>CDD</td>\n",
       "      <td>cd05769</td>\n",
       "      <td>IgC1_TCR_beta</td>\n",
       "      <td>6</td>\n",
       "      <td>125</td>\n",
       "      <td>0.0</td>\n",
       "      <td>T</td>\n",
       "      <td>13-03-2023</td>\n",
       "      <td>-</td>\n",
       "      <td>-</td>\n",
       "    </tr>\n",
       "    <tr>\n",
       "      <th>3</th>\n",
       "      <td>sp|A0A5B9|TRBC2_HUMAN</td>\n",
       "      <td>sp|P0DTU4|TRBR2_HUMAN</td>\n",
       "      <td>178</td>\n",
       "      <td>315</td>\n",
       "      <td>1</td>\n",
       "      <td>138</td>\n",
       "      <td>178</td>\n",
       "      <td>315</td>\n",
       "      <td>958</td>\n",
       "      <td>5.000000e-131</td>\n",
       "      <td>...</td>\n",
       "      <td>FunFam</td>\n",
       "      <td>G3DSA:2.60.40.10:FF:001090</td>\n",
       "      <td>T cell receptor beta constant 1</td>\n",
       "      <td>1</td>\n",
       "      <td>129</td>\n",
       "      <td>0.0</td>\n",
       "      <td>T</td>\n",
       "      <td>13-03-2023</td>\n",
       "      <td>-</td>\n",
       "      <td>-</td>\n",
       "    </tr>\n",
       "    <tr>\n",
       "      <th>4</th>\n",
       "      <td>sp|A0A5B9|TRBC2_HUMAN</td>\n",
       "      <td>sp|P0DTU4|TRBR2_HUMAN</td>\n",
       "      <td>178</td>\n",
       "      <td>315</td>\n",
       "      <td>1</td>\n",
       "      <td>138</td>\n",
       "      <td>178</td>\n",
       "      <td>315</td>\n",
       "      <td>958</td>\n",
       "      <td>5.000000e-131</td>\n",
       "      <td>...</td>\n",
       "      <td>Gene3D</td>\n",
       "      <td>G3DSA:2.60.40.10</td>\n",
       "      <td>Immunoglobulins</td>\n",
       "      <td>1</td>\n",
       "      <td>129</td>\n",
       "      <td>0.0</td>\n",
       "      <td>T</td>\n",
       "      <td>13-03-2023</td>\n",
       "      <td>IPR013783</td>\n",
       "      <td>Immunoglobulin-like fold</td>\n",
       "    </tr>\n",
       "  </tbody>\n",
       "</table>\n",
       "<p>5 rows × 25 columns</p>\n",
       "</div>"
      ],
      "text/plain": [
       "                  qseqid                 sseqid  qlen  slen  qstart  sstart  \\\n",
       "0  sp|A0A5B9|TRBC2_HUMAN  sp|P0DTU4|TRBR2_HUMAN   178   315       1     138   \n",
       "1  sp|A0A5B9|TRBC2_HUMAN  sp|P0DTU4|TRBR2_HUMAN   178   315       1     138   \n",
       "2  sp|A0A5B9|TRBC2_HUMAN  sp|P0DTU4|TRBR2_HUMAN   178   315       1     138   \n",
       "3  sp|A0A5B9|TRBC2_HUMAN  sp|P0DTU4|TRBR2_HUMAN   178   315       1     138   \n",
       "4  sp|A0A5B9|TRBC2_HUMAN  sp|P0DTU4|TRBR2_HUMAN   178   315       1     138   \n",
       "\n",
       "   qend  send  score       evalue_x  ...     database  \\\n",
       "0   178   315    958  5.000000e-131  ...  SUPERFAMILY   \n",
       "1   178   315    958  5.000000e-131  ...      PANTHER   \n",
       "2   178   315    958  5.000000e-131  ...          CDD   \n",
       "3   178   315    958  5.000000e-131  ...       FunFam   \n",
       "4   178   315    958  5.000000e-131  ...       Gene3D   \n",
       "\n",
       "                    accession                      description start  end  \\\n",
       "0                    SSF48726                   Immunoglobulin     3  118   \n",
       "1                   PTHR23411                          TAPASIN     8  131   \n",
       "2                     cd05769                    IgC1_TCR_beta     6  125   \n",
       "3  G3DSA:2.60.40.10:FF:001090  T cell receptor beta constant 1     1  129   \n",
       "4            G3DSA:2.60.40.10                  Immunoglobulins     1  129   \n",
       "\n",
       "  evalue_y post_processed        date      entry  \\\n",
       "0      0.0              T  13-03-2023  IPR036179   \n",
       "1      0.0              T  13-03-2023          -   \n",
       "2      0.0              T  13-03-2023          -   \n",
       "3      0.0              T  13-03-2023          -   \n",
       "4      0.0              T  13-03-2023  IPR013783   \n",
       "\n",
       "                                     name  \n",
       "0  Immunoglobulin-like domain superfamily  \n",
       "1                                       -  \n",
       "2                                       -  \n",
       "3                                       -  \n",
       "4                Immunoglobulin-like fold  \n",
       "\n",
       "[5 rows x 25 columns]"
      ]
     },
     "execution_count": 91,
     "metadata": {},
     "output_type": "execute_result"
    }
   ],
   "source": [
    "all_table_copy.head(5)"
   ]
  },
  {
   "cell_type": "code",
   "execution_count": 35,
   "id": "f7d16b6f",
   "metadata": {},
   "outputs": [
    {
     "name": "stdout",
     "output_type": "stream",
     "text": [
      "572 4716\n"
     ]
    }
   ],
   "source": [
    "proteins_melanoma = all_table_copy[\"qseqid\"].unique().tolist()\n",
    "proteins_ref = all_table_copy[\"sseqid\"].unique().tolist()\n",
    "print(len(proteins_melanoma),len(proteins_ref))"
   ]
  },
  {
   "cell_type": "markdown",
   "id": "659bcade",
   "metadata": {},
   "source": [
    "Se encontró que 572 proteínas relacionadas a melanoma que se alinean con 4716 proteínas del proteoma humano en secciones de predicción de los dominios"
   ]
  },
  {
   "cell_type": "code",
   "execution_count": 92,
   "id": "8aabd6f7",
   "metadata": {},
   "outputs": [
    {
     "data": {
      "text/html": [
       "<div>\n",
       "<style scoped>\n",
       "    .dataframe tbody tr th:only-of-type {\n",
       "        vertical-align: middle;\n",
       "    }\n",
       "\n",
       "    .dataframe tbody tr th {\n",
       "        vertical-align: top;\n",
       "    }\n",
       "\n",
       "    .dataframe thead th {\n",
       "        text-align: right;\n",
       "    }\n",
       "</style>\n",
       "<table border=\"1\" class=\"dataframe\">\n",
       "  <thead>\n",
       "    <tr style=\"text-align: right;\">\n",
       "      <th></th>\n",
       "      <th>qseqid</th>\n",
       "      <th>sseqid</th>\n",
       "      <th>accession</th>\n",
       "      <th>count</th>\n",
       "    </tr>\n",
       "  </thead>\n",
       "  <tbody>\n",
       "    <tr>\n",
       "      <th>64099</th>\n",
       "      <td>sp|Q8WZ42|TITIN_HUMAN</td>\n",
       "      <td>sp|Q5VST9|OBSCN_HUMAN</td>\n",
       "      <td>G3DSA:2.60.40.10</td>\n",
       "      <td>960</td>\n",
       "    </tr>\n",
       "    <tr>\n",
       "      <th>64100</th>\n",
       "      <td>sp|Q8WZ42|TITIN_HUMAN</td>\n",
       "      <td>sp|Q5VST9|OBSCN_HUMAN</td>\n",
       "      <td>SSF48726</td>\n",
       "      <td>923</td>\n",
       "    </tr>\n",
       "    <tr>\n",
       "      <th>77321</th>\n",
       "      <td>sp|Q96RW7|HMCN1_HUMAN</td>\n",
       "      <td>sp|Q8WZ42|TITIN_HUMAN</td>\n",
       "      <td>G3DSA:2.60.40.10</td>\n",
       "      <td>912</td>\n",
       "    </tr>\n",
       "    <tr>\n",
       "      <th>77322</th>\n",
       "      <td>sp|Q96RW7|HMCN1_HUMAN</td>\n",
       "      <td>sp|Q8WZ42|TITIN_HUMAN</td>\n",
       "      <td>SSF48726</td>\n",
       "      <td>893</td>\n",
       "    </tr>\n",
       "    <tr>\n",
       "      <th>65063</th>\n",
       "      <td>sp|Q8WZ42|TITIN_HUMAN</td>\n",
       "      <td>sp|Q96RW7|HMCN1_HUMAN</td>\n",
       "      <td>G3DSA:2.60.40.10</td>\n",
       "      <td>800</td>\n",
       "    </tr>\n",
       "    <tr>\n",
       "      <th>...</th>\n",
       "      <td>...</td>\n",
       "      <td>...</td>\n",
       "      <td>...</td>\n",
       "      <td>...</td>\n",
       "    </tr>\n",
       "    <tr>\n",
       "      <th>35109</th>\n",
       "      <td>sp|Q00534|CDK6_HUMAN</td>\n",
       "      <td>sp|O94921|CDK14_HUMAN</td>\n",
       "      <td>PTHR24056</td>\n",
       "      <td>1</td>\n",
       "    </tr>\n",
       "    <tr>\n",
       "      <th>35108</th>\n",
       "      <td>sp|Q00534|CDK6_HUMAN</td>\n",
       "      <td>sp|O94921|CDK14_HUMAN</td>\n",
       "      <td>SM00220</td>\n",
       "      <td>1</td>\n",
       "    </tr>\n",
       "    <tr>\n",
       "      <th>35107</th>\n",
       "      <td>sp|Q00534|CDK6_HUMAN</td>\n",
       "      <td>sp|O94921|CDK14_HUMAN</td>\n",
       "      <td>SSF56112</td>\n",
       "      <td>1</td>\n",
       "    </tr>\n",
       "    <tr>\n",
       "      <th>35106</th>\n",
       "      <td>sp|Q00534|CDK6_HUMAN</td>\n",
       "      <td>sp|O94921|CDK14_HUMAN</td>\n",
       "      <td>PF00069</td>\n",
       "      <td>1</td>\n",
       "    </tr>\n",
       "    <tr>\n",
       "      <th>92505</th>\n",
       "      <td>sp|Q9Y6U3|SCIN_HUMAN</td>\n",
       "      <td>sp|Q13045|FLII_HUMAN</td>\n",
       "      <td>cd11293</td>\n",
       "      <td>1</td>\n",
       "    </tr>\n",
       "  </tbody>\n",
       "</table>\n",
       "<p>92506 rows × 4 columns</p>\n",
       "</div>"
      ],
      "text/plain": [
       "                      qseqid                 sseqid         accession  count\n",
       "64099  sp|Q8WZ42|TITIN_HUMAN  sp|Q5VST9|OBSCN_HUMAN  G3DSA:2.60.40.10    960\n",
       "64100  sp|Q8WZ42|TITIN_HUMAN  sp|Q5VST9|OBSCN_HUMAN          SSF48726    923\n",
       "77321  sp|Q96RW7|HMCN1_HUMAN  sp|Q8WZ42|TITIN_HUMAN  G3DSA:2.60.40.10    912\n",
       "77322  sp|Q96RW7|HMCN1_HUMAN  sp|Q8WZ42|TITIN_HUMAN          SSF48726    893\n",
       "65063  sp|Q8WZ42|TITIN_HUMAN  sp|Q96RW7|HMCN1_HUMAN  G3DSA:2.60.40.10    800\n",
       "...                      ...                    ...               ...    ...\n",
       "35109   sp|Q00534|CDK6_HUMAN  sp|O94921|CDK14_HUMAN         PTHR24056      1\n",
       "35108   sp|Q00534|CDK6_HUMAN  sp|O94921|CDK14_HUMAN           SM00220      1\n",
       "35107   sp|Q00534|CDK6_HUMAN  sp|O94921|CDK14_HUMAN          SSF56112      1\n",
       "35106   sp|Q00534|CDK6_HUMAN  sp|O94921|CDK14_HUMAN           PF00069      1\n",
       "92505   sp|Q9Y6U3|SCIN_HUMAN   sp|Q13045|FLII_HUMAN           cd11293      1\n",
       "\n",
       "[92506 rows x 4 columns]"
      ]
     },
     "execution_count": 92,
     "metadata": {},
     "output_type": "execute_result"
    }
   ],
   "source": [
    "domains_freq = all_table_copy.groupby([\"qseqid\",\"sseqid\"],as_index=False)[\"accession\"].value_counts().sort_values(\"count\",ascending=False)\n",
    "domains_freq"
   ]
  },
  {
   "cell_type": "markdown",
   "id": "bcaca1b3",
   "metadata": {},
   "source": [
    "El dominio con un mayor número de predicciones fue G3DSA:2.60.40.10\t en la proteina TITIN_Human con OBSCN_HUMAN siendo luego SSF48726 con el mismo alineamiento, ambos dominios estan relacionados a la superfamilia de Immunoglobulinas. "
   ]
  },
  {
   "cell_type": "markdown",
   "id": "4f6aa504",
   "metadata": {},
   "source": [
    "### Analisis de la proteína TITIN_Human\n",
    "\n",
    "Los resultados muestran que esta proteína es la que presenta un mayor número de alineamientos, además de ser la proteína más grande (34350 aa) relacionada a melanoma. Por otro lado es la que presenta un mayor número de predicciones de dominio. Por lo tanto a continuación se analizára los dominios encontrados en la proteína y las proteínas que presentaron alineamientos en sus respectivos dominios. Los alineamientos que se analizarán serán los que al menos se hayan alineado en 1/18 del tamaño de la proteína"
   ]
  },
  {
   "cell_type": "markdown",
   "id": "49776ac2",
   "metadata": {},
   "source": [
    "Descripción de TITIN_HUMAN:\n",
    "\n",
    "Es una proteína estructural. Componente clave en el ensamblaje y funcionamiento de los músculos estriados de los vertebrados. Se ha relacionado a melanoma debido al encuentro de mutaciones de está proteína en células tumorales de melanoma."
   ]
  },
  {
   "cell_type": "code",
   "execution_count": 97,
   "id": "3af1419a",
   "metadata": {},
   "outputs": [
    {
     "name": "stdout",
     "output_type": "stream",
     "text": [
      "<class 'pandas.core.frame.DataFrame'>\n",
      "Int64Index: 437583 entries, 0 to 7747764\n",
      "Data columns (total 25 columns):\n",
      " #   Column          Non-Null Count   Dtype  \n",
      "---  ------          --------------   -----  \n",
      " 0   qseqid          437583 non-null  object \n",
      " 1   sseqid          437583 non-null  object \n",
      " 2   qlen            437583 non-null  int64  \n",
      " 3   slen            437583 non-null  int64  \n",
      " 4   qstart          437583 non-null  int64  \n",
      " 5   sstart          437583 non-null  int64  \n",
      " 6   qend            437583 non-null  int64  \n",
      " 7   send            437583 non-null  int64  \n",
      " 8   score           437583 non-null  int64  \n",
      " 9   evalue_x        437583 non-null  float64\n",
      " 10  length_x        437583 non-null  int64  \n",
      " 11  positive        437583 non-null  int64  \n",
      " 12  sequence        437583 non-null  object \n",
      " 13  md5             437583 non-null  object \n",
      " 14  length_y        437583 non-null  int64  \n",
      " 15  database        437583 non-null  object \n",
      " 16  accession       437583 non-null  object \n",
      " 17  description     437583 non-null  object \n",
      " 18  start           437583 non-null  int64  \n",
      " 19  end             437583 non-null  int64  \n",
      " 20  evalue_y        437583 non-null  object \n",
      " 21  post_processed  437583 non-null  object \n",
      " 22  date            437583 non-null  object \n",
      " 23  entry           437583 non-null  object \n",
      " 24  name            437583 non-null  object \n",
      "dtypes: float64(1), int64(12), object(12)\n",
      "memory usage: 86.8+ MB\n"
     ]
    }
   ],
   "source": [
    "all_table_copy.info()"
   ]
  },
  {
   "cell_type": "code",
   "execution_count": 118,
   "id": "ce507235",
   "metadata": {},
   "outputs": [],
   "source": [
    "TITIN_HUMAN_tab_filter = all_table_copy[(all_table_copy[\"qseqid\"]==\"sp|Q8WZ42|TITIN_HUMAN\") & (all_table_copy[\"positive\"]>=1750)]"
   ]
  },
  {
   "cell_type": "code",
   "execution_count": 124,
   "id": "484f52cd",
   "metadata": {},
   "outputs": [
    {
     "data": {
      "text/html": [
       "<div>\n",
       "<style scoped>\n",
       "    .dataframe tbody tr th:only-of-type {\n",
       "        vertical-align: middle;\n",
       "    }\n",
       "\n",
       "    .dataframe tbody tr th {\n",
       "        vertical-align: top;\n",
       "    }\n",
       "\n",
       "    .dataframe thead th {\n",
       "        text-align: right;\n",
       "    }\n",
       "</style>\n",
       "<table border=\"1\" class=\"dataframe\">\n",
       "  <thead>\n",
       "    <tr style=\"text-align: right;\">\n",
       "      <th></th>\n",
       "      <th>qseqid</th>\n",
       "      <th>sseqid</th>\n",
       "      <th>qlen</th>\n",
       "      <th>slen</th>\n",
       "      <th>qstart</th>\n",
       "      <th>sstart</th>\n",
       "      <th>qend</th>\n",
       "      <th>send</th>\n",
       "      <th>score</th>\n",
       "      <th>evalue_x</th>\n",
       "      <th>...</th>\n",
       "      <th>database</th>\n",
       "      <th>accession</th>\n",
       "      <th>description</th>\n",
       "      <th>start</th>\n",
       "      <th>end</th>\n",
       "      <th>evalue_y</th>\n",
       "      <th>post_processed</th>\n",
       "      <th>date</th>\n",
       "      <th>entry</th>\n",
       "      <th>name</th>\n",
       "    </tr>\n",
       "  </thead>\n",
       "  <tbody>\n",
       "    <tr>\n",
       "      <th>504098</th>\n",
       "      <td>sp|Q8WZ42|TITIN_HUMAN</td>\n",
       "      <td>sp|Q96RW7|HMCN1_HUMAN</td>\n",
       "      <td>34350</td>\n",
       "      <td>5635</td>\n",
       "      <td>5058</td>\n",
       "      <td>448</td>\n",
       "      <td>9159</td>\n",
       "      <td>4516</td>\n",
       "      <td>3044</td>\n",
       "      <td>0.0</td>\n",
       "      <td>...</td>\n",
       "      <td>SUPERFAMILY</td>\n",
       "      <td>SSF48726</td>\n",
       "      <td>Immunoglobulin</td>\n",
       "      <td>8232</td>\n",
       "      <td>8332</td>\n",
       "      <td>0.0</td>\n",
       "      <td>T</td>\n",
       "      <td>13-03-2023</td>\n",
       "      <td>IPR036179</td>\n",
       "      <td>Immunoglobulin-like domain superfamily</td>\n",
       "    </tr>\n",
       "    <tr>\n",
       "      <th>504107</th>\n",
       "      <td>sp|Q8WZ42|TITIN_HUMAN</td>\n",
       "      <td>sp|Q96RW7|HMCN1_HUMAN</td>\n",
       "      <td>34350</td>\n",
       "      <td>5635</td>\n",
       "      <td>5058</td>\n",
       "      <td>448</td>\n",
       "      <td>9159</td>\n",
       "      <td>4516</td>\n",
       "      <td>3044</td>\n",
       "      <td>0.0</td>\n",
       "      <td>...</td>\n",
       "      <td>SUPERFAMILY</td>\n",
       "      <td>SSF48726</td>\n",
       "      <td>Immunoglobulin</td>\n",
       "      <td>6440</td>\n",
       "      <td>6539</td>\n",
       "      <td>0.0</td>\n",
       "      <td>T</td>\n",
       "      <td>13-03-2023</td>\n",
       "      <td>IPR036179</td>\n",
       "      <td>Immunoglobulin-like domain superfamily</td>\n",
       "    </tr>\n",
       "    <tr>\n",
       "      <th>504111</th>\n",
       "      <td>sp|Q8WZ42|TITIN_HUMAN</td>\n",
       "      <td>sp|Q96RW7|HMCN1_HUMAN</td>\n",
       "      <td>34350</td>\n",
       "      <td>5635</td>\n",
       "      <td>5058</td>\n",
       "      <td>448</td>\n",
       "      <td>9159</td>\n",
       "      <td>4516</td>\n",
       "      <td>3044</td>\n",
       "      <td>0.0</td>\n",
       "      <td>...</td>\n",
       "      <td>CDD</td>\n",
       "      <td>cd00096</td>\n",
       "      <td>Ig</td>\n",
       "      <td>5058</td>\n",
       "      <td>5126</td>\n",
       "      <td>0.0</td>\n",
       "      <td>T</td>\n",
       "      <td>13-03-2023</td>\n",
       "      <td>-</td>\n",
       "      <td>-</td>\n",
       "    </tr>\n",
       "    <tr>\n",
       "      <th>504122</th>\n",
       "      <td>sp|Q8WZ42|TITIN_HUMAN</td>\n",
       "      <td>sp|Q96RW7|HMCN1_HUMAN</td>\n",
       "      <td>34350</td>\n",
       "      <td>5635</td>\n",
       "      <td>5058</td>\n",
       "      <td>448</td>\n",
       "      <td>9159</td>\n",
       "      <td>4516</td>\n",
       "      <td>3044</td>\n",
       "      <td>0.0</td>\n",
       "      <td>...</td>\n",
       "      <td>CDD</td>\n",
       "      <td>cd00096</td>\n",
       "      <td>Ig</td>\n",
       "      <td>5337</td>\n",
       "      <td>5404</td>\n",
       "      <td>0.0</td>\n",
       "      <td>T</td>\n",
       "      <td>13-03-2023</td>\n",
       "      <td>-</td>\n",
       "      <td>-</td>\n",
       "    </tr>\n",
       "    <tr>\n",
       "      <th>504123</th>\n",
       "      <td>sp|Q8WZ42|TITIN_HUMAN</td>\n",
       "      <td>sp|Q96RW7|HMCN1_HUMAN</td>\n",
       "      <td>34350</td>\n",
       "      <td>5635</td>\n",
       "      <td>5058</td>\n",
       "      <td>448</td>\n",
       "      <td>9159</td>\n",
       "      <td>4516</td>\n",
       "      <td>3044</td>\n",
       "      <td>0.0</td>\n",
       "      <td>...</td>\n",
       "      <td>CDD</td>\n",
       "      <td>cd00096</td>\n",
       "      <td>Ig</td>\n",
       "      <td>7119</td>\n",
       "      <td>7186</td>\n",
       "      <td>0.0</td>\n",
       "      <td>T</td>\n",
       "      <td>13-03-2023</td>\n",
       "      <td>-</td>\n",
       "      <td>-</td>\n",
       "    </tr>\n",
       "    <tr>\n",
       "      <th>504125</th>\n",
       "      <td>sp|Q8WZ42|TITIN_HUMAN</td>\n",
       "      <td>sp|Q96RW7|HMCN1_HUMAN</td>\n",
       "      <td>34350</td>\n",
       "      <td>5635</td>\n",
       "      <td>5058</td>\n",
       "      <td>448</td>\n",
       "      <td>9159</td>\n",
       "      <td>4516</td>\n",
       "      <td>3044</td>\n",
       "      <td>0.0</td>\n",
       "      <td>...</td>\n",
       "      <td>SUPERFAMILY</td>\n",
       "      <td>SSF48726</td>\n",
       "      <td>Immunoglobulin</td>\n",
       "      <td>8326</td>\n",
       "      <td>8419</td>\n",
       "      <td>0.0</td>\n",
       "      <td>T</td>\n",
       "      <td>13-03-2023</td>\n",
       "      <td>IPR036179</td>\n",
       "      <td>Immunoglobulin-like domain superfamily</td>\n",
       "    </tr>\n",
       "  </tbody>\n",
       "</table>\n",
       "<p>6 rows × 25 columns</p>\n",
       "</div>"
      ],
      "text/plain": [
       "                       qseqid                 sseqid   qlen  slen  qstart  \\\n",
       "504098  sp|Q8WZ42|TITIN_HUMAN  sp|Q96RW7|HMCN1_HUMAN  34350  5635    5058   \n",
       "504107  sp|Q8WZ42|TITIN_HUMAN  sp|Q96RW7|HMCN1_HUMAN  34350  5635    5058   \n",
       "504111  sp|Q8WZ42|TITIN_HUMAN  sp|Q96RW7|HMCN1_HUMAN  34350  5635    5058   \n",
       "504122  sp|Q8WZ42|TITIN_HUMAN  sp|Q96RW7|HMCN1_HUMAN  34350  5635    5058   \n",
       "504123  sp|Q8WZ42|TITIN_HUMAN  sp|Q96RW7|HMCN1_HUMAN  34350  5635    5058   \n",
       "504125  sp|Q8WZ42|TITIN_HUMAN  sp|Q96RW7|HMCN1_HUMAN  34350  5635    5058   \n",
       "\n",
       "        sstart  qend  send  score  evalue_x  ...     database  accession  \\\n",
       "504098     448  9159  4516   3044       0.0  ...  SUPERFAMILY   SSF48726   \n",
       "504107     448  9159  4516   3044       0.0  ...  SUPERFAMILY   SSF48726   \n",
       "504111     448  9159  4516   3044       0.0  ...          CDD    cd00096   \n",
       "504122     448  9159  4516   3044       0.0  ...          CDD    cd00096   \n",
       "504123     448  9159  4516   3044       0.0  ...          CDD    cd00096   \n",
       "504125     448  9159  4516   3044       0.0  ...  SUPERFAMILY   SSF48726   \n",
       "\n",
       "           description start   end evalue_y post_processed        date  \\\n",
       "504098  Immunoglobulin  8232  8332      0.0              T  13-03-2023   \n",
       "504107  Immunoglobulin  6440  6539      0.0              T  13-03-2023   \n",
       "504111              Ig  5058  5126      0.0              T  13-03-2023   \n",
       "504122              Ig  5337  5404      0.0              T  13-03-2023   \n",
       "504123              Ig  7119  7186      0.0              T  13-03-2023   \n",
       "504125  Immunoglobulin  8326  8419      0.0              T  13-03-2023   \n",
       "\n",
       "            entry                                    name  \n",
       "504098  IPR036179  Immunoglobulin-like domain superfamily  \n",
       "504107  IPR036179  Immunoglobulin-like domain superfamily  \n",
       "504111          -                                       -  \n",
       "504122          -                                       -  \n",
       "504123          -                                       -  \n",
       "504125  IPR036179  Immunoglobulin-like domain superfamily  \n",
       "\n",
       "[6 rows x 25 columns]"
      ]
     },
     "execution_count": 124,
     "metadata": {},
     "output_type": "execute_result"
    }
   ],
   "source": [
    "TITIN_HUMAN_tab_filter.head(6)"
   ]
  },
  {
   "cell_type": "code",
   "execution_count": 119,
   "id": "2a428309",
   "metadata": {},
   "outputs": [
    {
     "data": {
      "text/plain": [
       "array(['sp|Q96RW7|HMCN1_HUMAN', 'sp|Q5VST9|OBSCN_HUMAN'], dtype=object)"
      ]
     },
     "execution_count": 119,
     "metadata": {},
     "output_type": "execute_result"
    }
   ],
   "source": [
    "TITIN_HUMAN_tab_filter[\"sseqid\"].unique()"
   ]
  },
  {
   "cell_type": "markdown",
   "id": "a0a55613",
   "metadata": {},
   "source": [
    "Las únicas proteínas que tiene un alineamiento que es mayor o igual al 1/20 del tamaño de la proteína son HMCN1_HUMAN y OBSCN_HUMAN. Ambas proteínas están vinculadas a funciones estructurales."
   ]
  },
  {
   "cell_type": "code",
   "execution_count": 120,
   "id": "969d0220",
   "metadata": {},
   "outputs": [
    {
     "data": {
      "text/plain": [
       "15"
      ]
     },
     "execution_count": 120,
     "metadata": {},
     "output_type": "execute_result"
    }
   ],
   "source": [
    "TITIN_HUMAN_tab_filter[\"accession\"].nunique()"
   ]
  },
  {
   "cell_type": "code",
   "execution_count": 125,
   "id": "46a7b761",
   "metadata": {},
   "outputs": [
    {
     "data": {
      "text/html": [
       "<div>\n",
       "<style scoped>\n",
       "    .dataframe tbody tr th:only-of-type {\n",
       "        vertical-align: middle;\n",
       "    }\n",
       "\n",
       "    .dataframe tbody tr th {\n",
       "        vertical-align: top;\n",
       "    }\n",
       "\n",
       "    .dataframe thead th {\n",
       "        text-align: right;\n",
       "    }\n",
       "</style>\n",
       "<table border=\"1\" class=\"dataframe\">\n",
       "  <thead>\n",
       "    <tr style=\"text-align: right;\">\n",
       "      <th></th>\n",
       "      <th>sseqid</th>\n",
       "      <th>accession</th>\n",
       "      <th>count</th>\n",
       "    </tr>\n",
       "  </thead>\n",
       "  <tbody>\n",
       "    <tr>\n",
       "      <th>0</th>\n",
       "      <td>sp|Q5VST9|OBSCN_HUMAN</td>\n",
       "      <td>SSF48726</td>\n",
       "      <td>291</td>\n",
       "    </tr>\n",
       "    <tr>\n",
       "      <th>1</th>\n",
       "      <td>sp|Q5VST9|OBSCN_HUMAN</td>\n",
       "      <td>PF07679</td>\n",
       "      <td>290</td>\n",
       "    </tr>\n",
       "    <tr>\n",
       "      <th>2</th>\n",
       "      <td>sp|Q5VST9|OBSCN_HUMAN</td>\n",
       "      <td>G3DSA:2.60.40.10</td>\n",
       "      <td>288</td>\n",
       "    </tr>\n",
       "    <tr>\n",
       "      <th>3</th>\n",
       "      <td>sp|Q5VST9|OBSCN_HUMAN</td>\n",
       "      <td>G3DSA:2.60.40.10:FF:000022</td>\n",
       "      <td>238</td>\n",
       "    </tr>\n",
       "    <tr>\n",
       "      <th>4</th>\n",
       "      <td>sp|Q5VST9|OBSCN_HUMAN</td>\n",
       "      <td>cd00096</td>\n",
       "      <td>105</td>\n",
       "    </tr>\n",
       "    <tr>\n",
       "      <th>5</th>\n",
       "      <td>sp|Q5VST9|OBSCN_HUMAN</td>\n",
       "      <td>SM00408</td>\n",
       "      <td>73</td>\n",
       "    </tr>\n",
       "    <tr>\n",
       "      <th>6</th>\n",
       "      <td>sp|Q5VST9|OBSCN_HUMAN</td>\n",
       "      <td>SM00409</td>\n",
       "      <td>55</td>\n",
       "    </tr>\n",
       "    <tr>\n",
       "      <th>7</th>\n",
       "      <td>sp|Q5VST9|OBSCN_HUMAN</td>\n",
       "      <td>G3DSA:2.60.40.10:FF:000218</td>\n",
       "      <td>34</td>\n",
       "    </tr>\n",
       "    <tr>\n",
       "      <th>8</th>\n",
       "      <td>sp|Q5VST9|OBSCN_HUMAN</td>\n",
       "      <td>G3DSA:2.60.40.10:FF:000107</td>\n",
       "      <td>6</td>\n",
       "    </tr>\n",
       "    <tr>\n",
       "      <th>9</th>\n",
       "      <td>sp|Q5VST9|OBSCN_HUMAN</td>\n",
       "      <td>G3DSA:2.60.40.10:FF:001804</td>\n",
       "      <td>4</td>\n",
       "    </tr>\n",
       "    <tr>\n",
       "      <th>10</th>\n",
       "      <td>sp|Q5VST9|OBSCN_HUMAN</td>\n",
       "      <td>G3DSA:2.60.40.10:FF:001500</td>\n",
       "      <td>2</td>\n",
       "    </tr>\n",
       "    <tr>\n",
       "      <th>11</th>\n",
       "      <td>sp|Q5VST9|OBSCN_HUMAN</td>\n",
       "      <td>G3DSA:2.60.40.10:FF:000800</td>\n",
       "      <td>1</td>\n",
       "    </tr>\n",
       "    <tr>\n",
       "      <th>12</th>\n",
       "      <td>sp|Q5VST9|OBSCN_HUMAN</td>\n",
       "      <td>G3DSA:2.60.40.10:FF:001272</td>\n",
       "      <td>1</td>\n",
       "    </tr>\n",
       "    <tr>\n",
       "      <th>13</th>\n",
       "      <td>sp|Q5VST9|OBSCN_HUMAN</td>\n",
       "      <td>G3DSA:2.60.40.10:FF:001342</td>\n",
       "      <td>1</td>\n",
       "    </tr>\n",
       "    <tr>\n",
       "      <th>14</th>\n",
       "      <td>sp|Q5VST9|OBSCN_HUMAN</td>\n",
       "      <td>G3DSA:2.60.40.10:FF:000050</td>\n",
       "      <td>1</td>\n",
       "    </tr>\n",
       "    <tr>\n",
       "      <th>15</th>\n",
       "      <td>sp|Q96RW7|HMCN1_HUMAN</td>\n",
       "      <td>PF07679</td>\n",
       "      <td>253</td>\n",
       "    </tr>\n",
       "    <tr>\n",
       "      <th>16</th>\n",
       "      <td>sp|Q96RW7|HMCN1_HUMAN</td>\n",
       "      <td>SSF48726</td>\n",
       "      <td>251</td>\n",
       "    </tr>\n",
       "    <tr>\n",
       "      <th>17</th>\n",
       "      <td>sp|Q96RW7|HMCN1_HUMAN</td>\n",
       "      <td>G3DSA:2.60.40.10</td>\n",
       "      <td>251</td>\n",
       "    </tr>\n",
       "    <tr>\n",
       "      <th>18</th>\n",
       "      <td>sp|Q96RW7|HMCN1_HUMAN</td>\n",
       "      <td>G3DSA:2.60.40.10:FF:000022</td>\n",
       "      <td>209</td>\n",
       "    </tr>\n",
       "    <tr>\n",
       "      <th>19</th>\n",
       "      <td>sp|Q96RW7|HMCN1_HUMAN</td>\n",
       "      <td>cd00096</td>\n",
       "      <td>99</td>\n",
       "    </tr>\n",
       "    <tr>\n",
       "      <th>20</th>\n",
       "      <td>sp|Q96RW7|HMCN1_HUMAN</td>\n",
       "      <td>SM00408</td>\n",
       "      <td>65</td>\n",
       "    </tr>\n",
       "    <tr>\n",
       "      <th>21</th>\n",
       "      <td>sp|Q96RW7|HMCN1_HUMAN</td>\n",
       "      <td>SM00409</td>\n",
       "      <td>48</td>\n",
       "    </tr>\n",
       "    <tr>\n",
       "      <th>22</th>\n",
       "      <td>sp|Q96RW7|HMCN1_HUMAN</td>\n",
       "      <td>G3DSA:2.60.40.10:FF:000218</td>\n",
       "      <td>31</td>\n",
       "    </tr>\n",
       "    <tr>\n",
       "      <th>23</th>\n",
       "      <td>sp|Q96RW7|HMCN1_HUMAN</td>\n",
       "      <td>G3DSA:2.60.40.10:FF:000107</td>\n",
       "      <td>6</td>\n",
       "    </tr>\n",
       "    <tr>\n",
       "      <th>24</th>\n",
       "      <td>sp|Q96RW7|HMCN1_HUMAN</td>\n",
       "      <td>G3DSA:2.60.40.10:FF:001804</td>\n",
       "      <td>2</td>\n",
       "    </tr>\n",
       "    <tr>\n",
       "      <th>25</th>\n",
       "      <td>sp|Q96RW7|HMCN1_HUMAN</td>\n",
       "      <td>G3DSA:2.60.40.10:FF:001272</td>\n",
       "      <td>1</td>\n",
       "    </tr>\n",
       "    <tr>\n",
       "      <th>26</th>\n",
       "      <td>sp|Q96RW7|HMCN1_HUMAN</td>\n",
       "      <td>G3DSA:2.60.40.10:FF:001342</td>\n",
       "      <td>1</td>\n",
       "    </tr>\n",
       "    <tr>\n",
       "      <th>27</th>\n",
       "      <td>sp|Q96RW7|HMCN1_HUMAN</td>\n",
       "      <td>G3DSA:2.60.40.10:FF:001500</td>\n",
       "      <td>1</td>\n",
       "    </tr>\n",
       "  </tbody>\n",
       "</table>\n",
       "</div>"
      ],
      "text/plain": [
       "                   sseqid                   accession  count\n",
       "0   sp|Q5VST9|OBSCN_HUMAN                    SSF48726    291\n",
       "1   sp|Q5VST9|OBSCN_HUMAN                     PF07679    290\n",
       "2   sp|Q5VST9|OBSCN_HUMAN            G3DSA:2.60.40.10    288\n",
       "3   sp|Q5VST9|OBSCN_HUMAN  G3DSA:2.60.40.10:FF:000022    238\n",
       "4   sp|Q5VST9|OBSCN_HUMAN                     cd00096    105\n",
       "5   sp|Q5VST9|OBSCN_HUMAN                     SM00408     73\n",
       "6   sp|Q5VST9|OBSCN_HUMAN                     SM00409     55\n",
       "7   sp|Q5VST9|OBSCN_HUMAN  G3DSA:2.60.40.10:FF:000218     34\n",
       "8   sp|Q5VST9|OBSCN_HUMAN  G3DSA:2.60.40.10:FF:000107      6\n",
       "9   sp|Q5VST9|OBSCN_HUMAN  G3DSA:2.60.40.10:FF:001804      4\n",
       "10  sp|Q5VST9|OBSCN_HUMAN  G3DSA:2.60.40.10:FF:001500      2\n",
       "11  sp|Q5VST9|OBSCN_HUMAN  G3DSA:2.60.40.10:FF:000800      1\n",
       "12  sp|Q5VST9|OBSCN_HUMAN  G3DSA:2.60.40.10:FF:001272      1\n",
       "13  sp|Q5VST9|OBSCN_HUMAN  G3DSA:2.60.40.10:FF:001342      1\n",
       "14  sp|Q5VST9|OBSCN_HUMAN  G3DSA:2.60.40.10:FF:000050      1\n",
       "15  sp|Q96RW7|HMCN1_HUMAN                     PF07679    253\n",
       "16  sp|Q96RW7|HMCN1_HUMAN                    SSF48726    251\n",
       "17  sp|Q96RW7|HMCN1_HUMAN            G3DSA:2.60.40.10    251\n",
       "18  sp|Q96RW7|HMCN1_HUMAN  G3DSA:2.60.40.10:FF:000022    209\n",
       "19  sp|Q96RW7|HMCN1_HUMAN                     cd00096     99\n",
       "20  sp|Q96RW7|HMCN1_HUMAN                     SM00408     65\n",
       "21  sp|Q96RW7|HMCN1_HUMAN                     SM00409     48\n",
       "22  sp|Q96RW7|HMCN1_HUMAN  G3DSA:2.60.40.10:FF:000218     31\n",
       "23  sp|Q96RW7|HMCN1_HUMAN  G3DSA:2.60.40.10:FF:000107      6\n",
       "24  sp|Q96RW7|HMCN1_HUMAN  G3DSA:2.60.40.10:FF:001804      2\n",
       "25  sp|Q96RW7|HMCN1_HUMAN  G3DSA:2.60.40.10:FF:001272      1\n",
       "26  sp|Q96RW7|HMCN1_HUMAN  G3DSA:2.60.40.10:FF:001342      1\n",
       "27  sp|Q96RW7|HMCN1_HUMAN  G3DSA:2.60.40.10:FF:001500      1"
      ]
     },
     "execution_count": 125,
     "metadata": {},
     "output_type": "execute_result"
    }
   ],
   "source": [
    "TITIN_HUMAN_tab_filter.groupby(\"sseqid\", as_index=False)[\"accession\"].value_counts()"
   ]
  },
  {
   "cell_type": "markdown",
   "id": "9f20a50a",
   "metadata": {},
   "source": [
    "Hay presencia de 15 dominios predichos en TITIN_HUMAN, en los alineamientos se observa que el dominio predicho más presente en la proteína TITIN es SSF48726, siendo un dominio característico de las immunoglobulinas."
   ]
  },
  {
   "cell_type": "markdown",
   "id": "a10330a9",
   "metadata": {},
   "source": [
    "## Resumen de los resultados"
   ]
  },
  {
   "cell_type": "markdown",
   "id": "b9aa1a62",
   "metadata": {},
   "source": [
    "* Existen 725 proteínas relacionadas a melanoma en Uniprot\n",
    "* No hay correlación entre el tamaño de la proteína y el número de alineamientos realizados en BLAST\n",
    "* La proteína relacionada a melanoma con un mayor número de alineamientos con otras proteínas fue TITIN_HUMAN\n",
    "* Las proteínas alineadas en mas o igual a un 1/20 de la secuencia proteíca de TITIN_HUMAN fueron HMCN1_HUMAN y OBSCN_HUMAN\n",
    "* El dominio más frecuente en la predicción realizada por InterProSCan fue SSF48726."
   ]
  },
  {
   "cell_type": "markdown",
   "id": "f94014e3",
   "metadata": {},
   "source": [
    "## Conclusiones y Observaciones"
   ]
  },
  {
   "cell_type": "markdown",
   "id": "d1a544e9",
   "metadata": {},
   "source": [
    "* Existe un número relativamente alto de proteínas relacionadas a melanoma.\n",
    "* Hay un gran número de alineamientos locales que presentan predicciones de dominios.\n",
    "* No se encontraron alineamientos entre TITIN_HUMAN con otras proteínas del proteoma humano que fueran al menos 1/3 de la proteína. \n",
    "* La predicción de los dominios indican funciones que no se han encontrado en la proteína TITIN_HUMAN."
   ]
  },
  {
   "cell_type": "markdown",
   "id": "ec30d5dc",
   "metadata": {},
   "source": []
  }
 ],
 "metadata": {
  "kernelspec": {
   "display_name": "Python 3 (ipykernel)",
   "language": "python",
   "name": "python3"
  },
  "language_info": {
   "codemirror_mode": {
    "name": "ipython",
    "version": 3
   },
   "file_extension": ".py",
   "mimetype": "text/x-python",
   "name": "python",
   "nbconvert_exporter": "python",
   "pygments_lexer": "ipython3",
   "version": "3.9.7"
  }
 },
 "nbformat": 4,
 "nbformat_minor": 5
}
